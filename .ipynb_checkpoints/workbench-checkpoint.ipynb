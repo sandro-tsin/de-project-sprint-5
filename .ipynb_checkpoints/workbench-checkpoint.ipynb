{
 "cells": [
  {
   "cell_type": "code",
   "execution_count": 25,
   "id": "314a3fef",
   "metadata": {},
   "outputs": [],
   "source": [
    "import requests\n",
    "import pandas as pd\n",
    "from pandas import json_normalize\n",
    "import time \n",
    "import json\n",
    "from datetime import date, timedelta, datetime"
   ]
  },
  {
   "cell_type": "code",
   "execution_count": 2,
   "id": "8c438aa7",
   "metadata": {},
   "outputs": [],
   "source": [
    "url_rest = 'https://d5d04q7d963eapoepsqr.apigw.yandexcloud.net/restaurants'\n",
    "url_cour = 'https://d5d04q7d963eapoepsqr.apigw.yandexcloud.net/couriers'\n",
    "url_del = 'https://d5d04q7d963eapoepsqr.apigw.yandexcloud.net/deliveries'"
   ]
  },
  {
   "cell_type": "code",
   "execution_count": 3,
   "id": "cfab7665",
   "metadata": {},
   "outputs": [],
   "source": [
    "headers = {'X-Nickname': 'sandrotsin',\n",
    "            'X-Cohort': '12',\n",
    "            'X-API-KEY': '25c27781-8fde-4b30-a22e-524044a7580f'}"
   ]
  },
  {
   "cell_type": "code",
   "execution_count": 4,
   "id": "ee8bb461",
   "metadata": {},
   "outputs": [
    {
     "data": {
      "text/plain": [
       "[{'_id': '626a81cfefa404208fe9abae', 'name': 'Кофейня №1'},\n",
       " {'_id': 'a51e4e31ae4602047ec52534', 'name': 'Кубдари'},\n",
       " {'_id': 'ebfa4c9b8dadfc1da37ab58d', 'name': 'PLove'},\n",
       " {'_id': 'ef8c42c19b7518a9aebec106', 'name': 'Вкус Индии'}]"
      ]
     },
     "execution_count": 4,
     "metadata": {},
     "output_type": "execute_result"
    }
   ],
   "source": [
    "requests.get(url_rest, headers = headers).json()"
   ]
  },
  {
   "cell_type": "code",
   "execution_count": 6,
   "id": "24a1fe61",
   "metadata": {},
   "outputs": [],
   "source": [
    "params_cour = {\n",
    "    'sort_field': '_id',\n",
    "    'sort_direction': 'asc',\n",
    "    'limit': 50,\n",
    "    'offset': 0\n",
    "}"
   ]
  },
  {
   "cell_type": "code",
   "execution_count": 7,
   "id": "37eb5220",
   "metadata": {},
   "outputs": [
    {
     "data": {
      "text/plain": [
       "[{'_id': '2dzqh5x89y3w3g0cjh59pbj', 'name': 'Евгения Великая'},\n",
       " {'_id': '3o1jct7pdnpe7gm0ejb9i0f', 'name': 'Анна Лебедева'},\n",
       " {'_id': '4icgpz6w7rhvl37evts9wzs', 'name': 'Геннадий Смирнов'},\n",
       " {'_id': '5nj2ruf5wohguey7bmosqq6', 'name': 'Александр Петров'},\n",
       " {'_id': '6hrl1sha17c8yoedgq68ylh', 'name': 'Константин Петров'},\n",
       " {'_id': '6k4cthaiqwse7zg6tey7mvl', 'name': 'Сергей Иванов'},\n",
       " {'_id': '6l88rr9922wf0fow0vbgxzq', 'name': 'Снежанна Алексеева'},\n",
       " {'_id': '6zmstsu8s9zryihu0uzzwvj', 'name': 'Олег Попов'},\n",
       " {'_id': '7xbbkfktcq86r3jmhh95k3o', 'name': 'Снежанна Морозова'},\n",
       " {'_id': '86c675qhsw65l4wkqbxlkke', 'name': 'Александр Соколов'},\n",
       " {'_id': '87sphz96dyqs49xa3kyru4g', 'name': 'Екатерина Лебедева'},\n",
       " {'_id': '8wd9stf34d4iw21u9c3wwin', 'name': 'Олег Иванов'},\n",
       " {'_id': '96ljqi2uwkxkbvfy6bd6ve3', 'name': 'Геннадий Михайлов'},\n",
       " {'_id': '9ifn9s9n7m52c0mhzcg5j4q', 'name': 'Евгения Алексеева'},\n",
       " {'_id': '9pi75ujtepnkpooloim8035', 'name': 'Снежанна Павлова'},\n",
       " {'_id': '9wnoiwf668e4yf6x48rjtkr', 'name': 'Елизавета Волкова'},\n",
       " {'_id': '9zwwqut6dtti6btt3jhwk5l', 'name': 'Константин Смирнов'},\n",
       " {'_id': 'a8fm95qfh4rxa0dwvohudef', 'name': 'Александра Орлова'},\n",
       " {'_id': 'avdypjwsv4l21rvvvd7cmpz', 'name': 'Анна Егорова'},\n",
       " {'_id': 'biaw7kemx540azf8hadrd0v', 'name': 'Алексей Соколов'},\n",
       " {'_id': 'bjpytz3qoc7sh39l3fgr2ed', 'name': 'Снежанна Морозова'},\n",
       " {'_id': 'blu1akxk49amn5lq5cy2epr', 'name': 'Евгений Сидоров'},\n",
       " {'_id': 'c8rp0a6lpuujs8d022xna73', 'name': 'Екатерина Алексеева'},\n",
       " {'_id': 'cjx78y9atglzrvhvni5h7jr', 'name': 'Елизавета Павлова'},\n",
       " {'_id': 'clqwesbljtjbmuw69hy70nh', 'name': 'Иван Кузнецов'},\n",
       " {'_id': 'cmy0aieomefimne4nvnoibl', 'name': 'Эдуард Новиков'},\n",
       " {'_id': 'cw3vvm81m3cvoncoui7cym6', 'name': 'Светлана Морозова'},\n",
       " {'_id': 'cx5stjx4m6mijwoupliq8rr', 'name': 'Александра Павлова'},\n",
       " {'_id': 'daj43xq3kgye0uinwc37pyu', 'name': 'Екатерина Алексеева'},\n",
       " {'_id': 'dffh6ji04wj5g5o5lpzrnxh', 'name': 'Анна Орлова'},\n",
       " {'_id': 'di49e5cto9nnmlf2v87f0sa', 'name': 'Олег Новиков'},\n",
       " {'_id': 'fcgncflctl4l5lujqrkla2i', 'name': 'Геннадий Васильев'},\n",
       " {'_id': 'fcslzn6cf5yvnpmjmk3e0ft', 'name': 'Светлана Егорова'},\n",
       " {'_id': 'fjr4lpnobszenjlokxlw6j6', 'name': 'Снежанна Волкова'},\n",
       " {'_id': 'fnxe59g811rq86tz58zkdx6', 'name': 'Снежанна Лебедева'},\n",
       " {'_id': 'fqtxpwqhxh4uj2t4gg3x8ha', 'name': 'Иван Сидоров'},\n",
       " {'_id': 'fxo1xo7bp4i72jkjthejb2g', 'name': 'Светлана Алексеева'},\n",
       " {'_id': 'fy1eiytvgdezftuu43f64q6', 'name': 'Екатерина Егорова'},\n",
       " {'_id': 'g1v15eqjovdt5nzexmzsia9', 'name': 'Петр Иванов'},\n",
       " {'_id': 'g4df8o7ypuq496s81n0kzjz', 'name': 'Елизавета Козлова'},\n",
       " {'_id': 'g61lr92atmmj42c7zr8z96b', 'name': 'Екатерина Павлова'},\n",
       " {'_id': 'gtzj0wwy62yu3hjo00yd810', 'name': 'Эдуард Кузнецов'},\n",
       " {'_id': 'h0hi0ilswc1bvw7ovdvbk44', 'name': 'Олег Иванов'},\n",
       " {'_id': 'h79pcubiqeazt35dv7180ym', 'name': 'Оксана Орлова'},\n",
       " {'_id': 'hgg0aamiltt972eziivjowx', 'name': 'Александра Егорова'},\n",
       " {'_id': 'hjq1h2pdmxswsm1txmlixco', 'name': 'Оксана Великая'},\n",
       " {'_id': 'hkphca4v0ejcykoj1emqfaz', 'name': 'Оксана Великая'},\n",
       " {'_id': 'iyd7polb2ae9nq2tvbbdpns', 'name': 'Евгения Орлова'},\n",
       " {'_id': 'j0iv5zlh2ch3qlsyrh6b67y', 'name': 'Олег Михайлов'},\n",
       " {'_id': 'kqn33o7n1c0ihcimheill2g', 'name': 'Сергей Новиков'}]"
      ]
     },
     "execution_count": 7,
     "metadata": {},
     "output_type": "execute_result"
    }
   ],
   "source": [
    "requests.get(url_cour, headers = headers, params = params_cour).json()"
   ]
  },
  {
   "cell_type": "code",
   "execution_count": 5,
   "id": "e027f81c",
   "metadata": {},
   "outputs": [
    {
     "data": {
      "text/plain": [
       "'2023-05-17 00:00:00'"
      ]
     },
     "execution_count": 5,
     "metadata": {},
     "output_type": "execute_result"
    }
   ],
   "source": [
    "date_f = (date.today() - timedelta(days=1)).strftime(\"%Y-%m-%d 00:00:00\")\n",
    "date_f"
   ]
  },
  {
   "cell_type": "code",
   "execution_count": 6,
   "id": "0e7fa294",
   "metadata": {},
   "outputs": [
    {
     "data": {
      "text/plain": [
       "'2023-05-18 00:00:00'"
      ]
     },
     "execution_count": 6,
     "metadata": {},
     "output_type": "execute_result"
    }
   ],
   "source": [
    "date_t = date.today().strftime(\"%Y-%m-%d 00:00:00\")\n",
    "date_t"
   ]
  },
  {
   "cell_type": "code",
   "execution_count": 15,
   "id": "49219836",
   "metadata": {},
   "outputs": [],
   "source": [
    "params_del = {\n",
    "    'sort_field': 'date',\n",
    "    'sort_direction': 'asc',\n",
    "    'limit': 50,\n",
    "    'offset': 0,\n",
    "    'from': date_f,\n",
    "    'to': date_t\n",
    "}"
   ]
  },
  {
   "cell_type": "code",
   "execution_count": 16,
   "id": "a301d604",
   "metadata": {},
   "outputs": [
    {
     "name": "stdout",
     "output_type": "stream",
     "text": [
      "646419187276530ad462d9cd {'order_id': '646419187276530ad462d9cd', 'order_ts': '2023-05-17 00:00:24.007000', 'delivery_id': '0ju8jfbtke89e8y3xiqwa5w', 'courier_id': 'z5gbv923eciunl3xdfdildt', 'address': 'Ул. Академика Королева, 15, кв. 153', 'delivery_ts': '2023-05-17 01:36:32.834000', 'rate': 5, 'sum': 170, 'tip_sum': 8}\n",
      "64641a3ee6d2ac34aa5d78cb {'order_id': '64641a3ee6d2ac34aa5d78cb', 'order_ts': '2023-05-17 00:05:18.334000', 'delivery_id': '7du22yewnkg4lap5bsv8ynt', 'courier_id': 'hjq1h2pdmxswsm1txmlixco', 'address': 'Ул. Металлургов, 4, кв. 352', 'delivery_ts': '2023-05-17 01:41:27.097000', 'rate': 5, 'sum': 1062, 'tip_sum': 53}\n",
      "64641b6a466dba08f0b7b811 {'order_id': '64641b6a466dba08f0b7b811', 'order_ts': '2023-05-17 00:10:18.985000', 'delivery_id': '21bcxcs3gwe441mund3rk35', 'courier_id': '4icgpz6w7rhvl37evts9wzs', 'address': 'Ул. Льва Толстого, 1, кв. 92', 'delivery_ts': '2023-05-17 01:43:23.142000', 'rate': 4, 'sum': 489, 'tip_sum': 73}\n",
      "64641c94b9133fdd3da24b93 {'order_id': '64641c94b9133fdd3da24b93', 'order_ts': '2023-05-17 00:15:16.738000', 'delivery_id': 'i6nl13dribd4r687152c915', 'courier_id': 'fqtxpwqhxh4uj2t4gg3x8ha', 'address': 'Ул. Советская, 10, кв. 427', 'delivery_ts': '2023-05-17 00:43:23.838000', 'rate': 5, 'sum': 2456, 'tip_sum': 245}\n",
      "64641dc3af37cde0e37694aa {'order_id': '64641dc3af37cde0e37694aa', 'order_ts': '2023-05-17 00:20:19.751000', 'delivery_id': 'jevz3yhi9n066lrlpazaicl', 'courier_id': 'j0iv5zlh2ch3qlsyrh6b67y', 'address': 'Ул. Советская, 4, кв. 250', 'delivery_ts': '2023-05-17 01:48:29.716000', 'rate': 5, 'sum': 2686, 'tip_sum': 268}\n",
      "64641eed00aa2faef52bc5cd {'order_id': '64641eed00aa2faef52bc5cd', 'order_ts': '2023-05-17 00:25:17.457000', 'delivery_id': 'bmjk4bhzy4q0czxnyb5eqv8', 'courier_id': 'yt5mw7kp62hp6r5gd7jol0i', 'address': 'Ул. Молодежная, 13, кв. 329', 'delivery_ts': '2023-05-17 01:25:23.384000', 'rate': 5, 'sum': 1664, 'tip_sum': 249}\n",
      "6464201dcdf9a40a8a8bf319 {'order_id': '6464201dcdf9a40a8a8bf319', 'order_ts': '2023-05-17 00:30:21.304000', 'delivery_id': 'sc4gtqmguuyixm6jvrulgpm', 'courier_id': 'yui2mubwhtk0799nvkxlb21', 'address': 'Ул. Зеленая, 4, кв. 36', 'delivery_ts': '2023-05-17 01:18:29.798000', 'rate': 5, 'sum': 3787, 'tip_sum': 378}\n",
      "646421453620de54f906e0ff {'order_id': '646421453620de54f906e0ff', 'order_ts': '2023-05-17 00:35:17.576000', 'delivery_id': '2s9043dtvblkctkfxav3u13', 'courier_id': 'a8fm95qfh4rxa0dwvohudef', 'address': 'Ул. Льва Толстого, 8, кв. 378', 'delivery_ts': '2023-05-17 01:08:18.585000', 'rate': 4, 'sum': 495, 'tip_sum': 74}\n",
      "64642273178b9b0e0d191b64 {'order_id': '64642273178b9b0e0d191b64', 'order_ts': '2023-05-17 00:40:19.096000', 'delivery_id': 'bbdkhub5tiitypoccau0uz8', 'courier_id': 'rbcladdt6r1f9ohfdys2npw', 'address': 'Ул. Молодежная, 15, кв. 94', 'delivery_ts': '2023-05-17 01:21:25.375000', 'rate': 3, 'sum': 1562, 'tip_sum': 78}\n",
      "6464239f995db5201955351d {'order_id': '6464239f995db5201955351d', 'order_ts': '2023-05-17 00:45:19.128000', 'delivery_id': 'v5ziesudtrecy9ltdvn0du9', 'courier_id': '1k7ylowe2lez8lubf4w3h5r', 'address': 'Ул. Красная, 2, кв. 288', 'delivery_ts': '2023-05-17 01:37:23.805000', 'rate': 5, 'sum': 4199, 'tip_sum': 419}\n",
      "646424ca4047477d82797857 {'order_id': '646424ca4047477d82797857', 'order_ts': '2023-05-17 00:50:18.792000', 'delivery_id': 'fyc6o0rvmpp25p89qei1bxz', 'courier_id': 'tr44dk3r7bwuarq2fw94p9h', 'address': 'Ул. Лесная, 14, кв. 278', 'delivery_ts': '2023-05-17 01:30:21.500000', 'rate': 5, 'sum': 2088, 'tip_sum': 104}\n",
      "646425f69ba241d7cba499d7 {'order_id': '646425f69ba241d7cba499d7', 'order_ts': '2023-05-17 00:55:18.617000', 'delivery_id': 'nlo272185xfog50c8mh0n7a', 'courier_id': 'h79pcubiqeazt35dv7180ym', 'address': 'Ул. Старая, 6, кв. 196', 'delivery_ts': '2023-05-17 02:34:20.282000', 'rate': 5, 'sum': 3143, 'tip_sum': 471}\n",
      "6464272759161644db8b95ce {'order_id': '6464272759161644db8b95ce', 'order_ts': '2023-05-17 01:00:23.003000', 'delivery_id': 'n70amdw29simdaann7e6h88', 'courier_id': 'krrzc3fl9lk0kwld3r0redj', 'address': 'Ул. Старая, 2, кв. 3', 'delivery_ts': '2023-05-17 02:57:26.695000', 'rate': 5, 'sum': 3218, 'tip_sum': 321}\n",
      "6464284ece6c35619edb90ee {'order_id': '6464284ece6c35619edb90ee', 'order_ts': '2023-05-17 01:05:18.314000', 'delivery_id': '0r8fzcdaz7i57638qtx5nuc', 'courier_id': 'z5gbv923eciunl3xdfdildt', 'address': 'Ул. Академика Королева, 12, кв. 222', 'delivery_ts': '2023-05-17 01:36:23.197000', 'rate': 5, 'sum': 158, 'tip_sum': 7}\n",
      "6464297a713b687e123f90ec {'order_id': '6464297a713b687e123f90ec', 'order_ts': '2023-05-17 01:10:18.749000', 'delivery_id': 'iyw005v6xvjijsw51w0v02y', 'courier_id': 'roropa6q5rx4nsf6ekrvmmx', 'address': 'Ул. Советская, 9, кв. 259', 'delivery_ts': '2023-05-17 01:26:19.993000', 'rate': 5, 'sum': 2547, 'tip_sum': 254}\n",
      "64642aa707b77a7058655b24 {'order_id': '64642aa707b77a7058655b24', 'order_ts': '2023-05-17 01:15:19.280000', 'delivery_id': 'zwtx3pq5cvdu494gxkz21d9', 'courier_id': '0iebleqc2cq7qic5ypjumz0', 'address': 'Ул. Зеленая, 14, кв. 272', 'delivery_ts': '2023-05-17 02:55:21.147000', 'rate': 5, 'sum': 4722, 'tip_sum': 708}\n",
      "64642bd4b86f72933e60caaa {'order_id': '64642bd4b86f72933e60caaa', 'order_ts': '2023-05-17 01:20:20.406000', 'delivery_id': 'nkbv3aov0d7mr2xkqdlc40n', 'courier_id': 'cw3vvm81m3cvoncoui7cym6', 'address': 'Ул. Старая, 6, кв. 90', 'delivery_ts': '2023-05-17 02:37:22.248000', 'rate': 5, 'sum': 3099, 'tip_sum': 309}\n",
      "64642cfd5a0f66f80a5ce359 {'order_id': '64642cfd5a0f66f80a5ce359', 'order_ts': '2023-05-17 01:25:17.283000', 'delivery_id': 'ql6b7z2zccwo55cqobavqf3', 'courier_id': 'w77armsiao8l9h0hj6vwwn6', 'address': 'Ул. Заречная, 6, кв. 52', 'delivery_ts': '2023-05-17 02:02:20.277000', 'rate': 5, 'sum': 3580, 'tip_sum': 358}\n",
      "64642e2b05feccf7dda62205 {'order_id': '64642e2b05feccf7dda62205', 'order_ts': '2023-05-17 01:30:19.532000', 'delivery_id': '7gyas4g8dpo156z3hgwd6cw', 'courier_id': '6l88rr9922wf0fow0vbgxzq', 'address': 'Ул. Металлургов, 5, кв. 278', 'delivery_ts': '2023-05-17 02:06:27.888000', 'rate': 5, 'sum': 1118, 'tip_sum': 55}\n",
      "64642f567cf763f25d00e238 {'order_id': '64642f567cf763f25d00e238', 'order_ts': '2023-05-17 01:35:18.227000', 'delivery_id': 'y0hc47j8w5hekck83ccgj2t', 'courier_id': 'l3h6ig7pxljkw0hy91zyvo6', 'address': 'Ул. Академика Королева, 13, кв. 473', 'delivery_ts': '2023-05-17 02:25:22.450000', 'rate': 5, 'sum': 4613, 'tip_sum': 691}\n",
      "646430835e100d1ad693af99 {'order_id': '646430835e100d1ad693af99', 'order_ts': '2023-05-17 01:40:19.221000', 'delivery_id': 'd034e50l4wmh6l6pyhyx5z6', 'courier_id': 'wkg3tf3j0yhb3gvawqjs696', 'address': 'Ул. Школьная, 1, кв. 26', 'delivery_ts': '2023-05-17 02:03:23.884000', 'rate': 5, 'sum': 1930, 'tip_sum': 96}\n",
      "646431b99da578f80fffd155 {'order_id': '646431b99da578f80fffd155', 'order_ts': '2023-05-17 01:45:29.416000', 'delivery_id': '1633rwozrdbtut9t8743m1d', 'courier_id': 'daj43xq3kgye0uinwc37pyu', 'address': 'Ул. Академика Королева, 10, кв. 53', 'delivery_ts': '2023-05-17 02:06:31.386000', 'rate': 5, 'sum': 4875, 'tip_sum': 731}\n",
      "646432db73562420c2228767 {'order_id': '646432db73562420c2228767', 'order_ts': '2023-05-17 01:50:19.396000', 'delivery_id': 'ekg0alnvz04q26pbxrqmwwq', 'courier_id': '6k4cthaiqwse7zg6tey7mvl', 'address': 'Ул. Лесная, 6, кв. 135', 'delivery_ts': '2023-05-17 03:21:20.437000', 'rate': 5, 'sum': 1980, 'tip_sum': 99}\n",
      "64643404f9daae06912974c0 {'order_id': '64643404f9daae06912974c0', 'order_ts': '2023-05-17 01:55:16.503000', 'delivery_id': 'z59wgdt4teb7577pxqwuohv', 'courier_id': 'r2u4m8r8lbn18qigsunb5mx', 'address': 'Ул. Мира, 11, кв. 75', 'delivery_ts': '2023-05-17 03:24:25.821000', 'rate': 5, 'sum': 4631, 'tip_sum': 694}\n",
      "646435395fb9d755de8e79d5 {'order_id': '646435395fb9d755de8e79d5', 'order_ts': '2023-05-17 02:00:25.153000', 'delivery_id': 'sqi6b64rs8rrrvcxxs4b3l8', 'courier_id': 'wj32e5kx324cer5anokul6j', 'address': 'Ул. Зеленая, 7, кв. 465', 'delivery_ts': '2023-05-17 02:52:27.778000', 'rate': 5, 'sum': 3814, 'tip_sum': 381}\n",
      "6464365d3a5d4c3a6700d82a {'order_id': '6464365d3a5d4c3a6700d82a', 'order_ts': '2023-05-17 02:05:17.129000', 'delivery_id': '922wzehscgoxmkvgt2ddgr9', 'courier_id': 'pkyn2u096qpgpmqbo0szg0o', 'address': 'Ул. Центральная, 11, кв. 444', 'delivery_ts': '2023-05-17 02:24:18.873000', 'rate': 5, 'sum': 1338, 'tip_sum': 66}\n",
      "6464378bc9d7dde6643e67de {'order_id': '6464378bc9d7dde6643e67de', 'order_ts': '2023-05-17 02:10:19.024000', 'delivery_id': 'nqljep4jp3hxcaw8ovf70c0', 'courier_id': 'cw3vvm81m3cvoncoui7cym6', 'address': 'Ул. Старая, 12, кв. 215', 'delivery_ts': '2023-05-17 03:08:25.105000', 'rate': 5, 'sum': 3128, 'tip_sum': 312}\n",
      "646438c0a5974621ca579f88 {'order_id': '646438c0a5974621ca579f88', 'order_ts': '2023-05-17 02:15:28.892000', 'delivery_id': '0m1011gd51n5tyk6beqacjv', 'courier_id': 'v6yi37uwfvdzrg6d7jhw3yu', 'address': 'Ул. Академика Королева, 6, кв. 372', 'delivery_ts': '2023-05-17 02:32:29.990000', 'rate': 5, 'sum': 229, 'tip_sum': 11}\n",
      "646439e1d9d45d22bc486dda {'order_id': '646439e1d9d45d22bc486dda', 'order_ts': '2023-05-17 02:20:17.610000', 'delivery_id': '4vdmua7pbbmwwc7p88hh7t2', 'courier_id': 'os9sr8uwcqpkb33uhutj6p7', 'address': 'Ул. Мира, 8, кв. 111', 'delivery_ts': '2023-05-17 04:01:24.275000', 'rate': 5, 'sum': 685, 'tip_sum': 34}\n",
      "64643b0f441326d92e3c10a8 {'order_id': '64643b0f441326d92e3c10a8', 'order_ts': '2023-05-17 02:25:19.089000', 'delivery_id': 'h2kuggmxfbphx3a6687ac4n', 'courier_id': 'gtzj0wwy62yu3hjo00yd810', 'address': 'Ул. Садовая, 15, кв. 356', 'delivery_ts': '2023-05-17 02:44:25.304000', 'rate': 5, 'sum': 2450, 'tip_sum': 245}\n",
      "64643c3f6bab4158d5d563df {'order_id': '64643c3f6bab4158d5d563df', 'order_ts': '2023-05-17 02:30:23.818000', 'delivery_id': 'ykux6tekli8913y6ipkp6gw', 'courier_id': 'vk872ce5oxp1xuux1vpi3lw', 'address': 'Ул. Новая, 8, кв. 270', 'delivery_ts': '2023-05-17 02:57:32.386000', 'rate': 5, 'sum': 4521, 'tip_sum': 678}\n",
      "64643d65f795c37074453472 {'order_id': '64643d65f795c37074453472', 'order_ts': '2023-05-17 02:35:17.850000', 'delivery_id': 'rw4sl6m5hj10ltbdj2b0i6i', 'courier_id': '87sphz96dyqs49xa3kyru4g', 'address': 'Ул. Заречная, 9, кв. 436', 'delivery_ts': '2023-05-17 04:08:19.891000', 'rate': 5, 'sum': 3686, 'tip_sum': 368}\n",
      "64643e92366f1e0cddcd9629 {'order_id': '64643e92366f1e0cddcd9629', 'order_ts': '2023-05-17 02:40:18.254000', 'delivery_id': 'kdo309xetyy36dkjabtcn8s', 'courier_id': 'mik2erlid2t85ssd6qsko0m', 'address': 'Ул. Новая, 13, кв. 111', 'delivery_ts': '2023-05-17 03:44:20.040000', 'rate': 5, 'sum': 4887, 'tip_sum': 733}\n",
      "64643fbf2f54330a4bfa2b11 {'order_id': '64643fbf2f54330a4bfa2b11', 'order_ts': '2023-05-17 02:45:19.884000', 'delivery_id': 'tt002alkgvk9mpjgx28jioz', 'courier_id': '9pi75ujtepnkpooloim8035', 'address': 'Ул. Зеленая, 8, кв. 395', 'delivery_ts': '2023-05-17 03:00:20.908000', 'rate': 5, 'sum': 3928, 'tip_sum': 392}\n",
      "646440eb679437cdc3f9e701 {'order_id': '646440eb679437cdc3f9e701', 'order_ts': '2023-05-17 02:50:19.363000', 'delivery_id': 'riikg2dr3yarqyvpzesxxbh', 'courier_id': '87sphz96dyqs49xa3kyru4g', 'address': 'Ул. Заречная, 10, кв. 362', 'delivery_ts': '2023-05-17 03:41:25.164000', 'rate': 5, 'sum': 3692, 'tip_sum': 369}\n",
      "646442158cf3ba01f6111eb1 {'order_id': '646442158cf3ba01f6111eb1', 'order_ts': '2023-05-17 02:55:17.994000', 'delivery_id': 'tq55yv9uzu1pxo4j26ny0v7', 'courier_id': '86c675qhsw65l4wkqbxlkke', 'address': 'Ул. Зеленая, 7, кв. 335', 'delivery_ts': '2023-05-17 03:20:20.432000', 'rate': 5, 'sum': 3953, 'tip_sum': 592}\n",
      "6464434cbddcac7c8edbd57a {'order_id': '6464434cbddcac7c8edbd57a', 'order_ts': '2023-05-17 03:00:28.382000', 'delivery_id': '48lfwl24lo3wlotnh1pw990', 'courier_id': 'os9sr8uwcqpkb33uhutj6p7', 'address': 'Ул. Мира, 12, кв. 309', 'delivery_ts': '2023-05-17 04:49:31.674000', 'rate': 5, 'sum': 720, 'tip_sum': 36}\n",
      "6464446d8e12d6070406af22 {'order_id': '6464446d8e12d6070406af22', 'order_ts': '2023-05-17 03:05:17.413000', 'delivery_id': '30f76seb9qkifc32meorcvw', 'courier_id': 'yc72wir40h5maqf4m83x7i5', 'address': 'Ул. Льва Толстого, 1, кв. 360', 'delivery_ts': '2023-05-17 03:51:20.438000', 'rate': 5, 'sum': 657, 'tip_sum': 32}\n",
      "6464459b6e8cbda756dabc85 {'order_id': '6464459b6e8cbda756dabc85', 'order_ts': '2023-05-17 03:10:19.204000', 'delivery_id': '0y830cxoeezqz9glg8v18vh', 'courier_id': 'v6yi37uwfvdzrg6d7jhw3yu', 'address': 'Ул. Академика Королева, 9, кв. 68', 'delivery_ts': '2023-05-17 03:32:20.357000', 'rate': 5, 'sum': 231, 'tip_sum': 11}\n",
      "646446c730138060c5de17e8 {'order_id': '646446c730138060c5de17e8', 'order_ts': '2023-05-17 03:15:19.321000', 'delivery_id': 'sasuaajwu0rppoezu5g7smp', 'courier_id': 'yui2mubwhtk0799nvkxlb21', 'address': 'Ул. Зеленая, 3, кв. 453', 'delivery_ts': '2023-05-17 04:27:28.108000', 'rate': 5, 'sum': 3789, 'tip_sum': 378}\n",
      "646447f28a012e8f90141e49 {'order_id': '646447f28a012e8f90141e49', 'order_ts': '2023-05-17 03:20:18.961000', 'delivery_id': 'fcdp5w3rt6ixfw98m941sh9', 'courier_id': 'tr44dk3r7bwuarq2fw94p9h', 'address': 'Ул. Лесная, 4, кв. 105', 'delivery_ts': '2023-05-17 04:25:21.241000', 'rate': 5, 'sum': 2130, 'tip_sum': 106}\n",
      "6464491ea539a5de0dbd37ba {'order_id': '6464491ea539a5de0dbd37ba', 'order_ts': '2023-05-17 03:25:18.730000', 'delivery_id': 'wdmidqmngtzd3iurrojyd1a', 'courier_id': 'o9940xhc44qs2e4t26j5t8c', 'address': 'Ул. Школьная, 6, кв. 145', 'delivery_ts': '2023-05-17 04:06:26.484000', 'rate': 5, 'sum': 4338, 'tip_sum': 650}\n",
      "64644a4df58e9c32ed86427d {'order_id': '64644a4df58e9c32ed86427d', 'order_ts': '2023-05-17 03:30:21.822000', 'delivery_id': '63h2x554z246sn9jadgtrqn', 'courier_id': '7xbbkfktcq86r3jmhh95k3o', 'address': 'Ул. Металлургов, 14, кв. 26', 'delivery_ts': '2023-05-17 05:14:27.384000', 'rate': 5, 'sum': 1035, 'tip_sum': 51}\n",
      "64644b75bc7898efaef5f10b {'order_id': '64644b75bc7898efaef5f10b', 'order_ts': '2023-05-17 03:35:17.151000', 'delivery_id': '9retmoh0np1cdlp1mh07ayd', 'courier_id': 'fcslzn6cf5yvnpmjmk3e0ft', 'address': 'Ул. Центральная, 7, кв. 119', 'delivery_ts': '2023-05-17 04:49:24.015000', 'rate': 5, 'sum': 1423, 'tip_sum': 71}\n",
      "64644ca279569706b3e5bbc1 {'order_id': '64644ca279569706b3e5bbc1', 'order_ts': '2023-05-17 03:40:18.392000', 'delivery_id': 'srpnjzuw06jllsnhhlbd1sp', 'courier_id': 'yui2mubwhtk0799nvkxlb21', 'address': 'Ул. Зеленая, 14, кв. 303', 'delivery_ts': '2023-05-17 04:50:26.031000', 'rate': 5, 'sum': 3779, 'tip_sum': 377}\n",
      "64644dcf8bef2dce5facee0a {'order_id': '64644dcf8bef2dce5facee0a', 'order_ts': '2023-05-17 03:45:19.657000', 'delivery_id': 'a6bbig0khysvjgxyy5iixgc', 'courier_id': 'g1v15eqjovdt5nzexmzsia9', 'address': 'Ул. Молодежная, 2, кв. 454', 'delivery_ts': '2023-05-17 04:22:23.522000', 'rate': 5, 'sum': 1472, 'tip_sum': 220}\n",
      "64644efab7c5ee4457e25960 {'order_id': '64644efab7c5ee4457e25960', 'order_ts': '2023-05-17 03:50:18.186000', 'delivery_id': '0kw8igwkw5d9cs8vwezzidt', 'courier_id': 'z5gbv923eciunl3xdfdildt', 'address': 'Ул. Академика Королева, 11, кв. 168', 'delivery_ts': '2023-05-17 05:10:21.367000', 'rate': 5, 'sum': 206, 'tip_sum': 10}\n",
      "64645025b49c6eeb9d545c05 {'order_id': '64645025b49c6eeb9d545c05', 'order_ts': '2023-05-17 03:55:17.471000', 'delivery_id': 'c4r6srps0w1laj4m270yb04', 'courier_id': '9zwwqut6dtti6btt3jhwk5l', 'address': 'Ул. Школьная, 2, кв. 220', 'delivery_ts': '2023-05-17 04:23:25.817000', 'rate': 5, 'sum': 1795, 'tip_sum': 269}\n",
      "64645159600a6f117dc3e36a {'order_id': '64645159600a6f117dc3e36a', 'order_ts': '2023-05-17 04:00:25.250000', 'delivery_id': 'yf23egfa18id5grvjk2bzdv', 'courier_id': 'l3h6ig7pxljkw0hy91zyvo6', 'address': 'Ул. Лесная, 1, кв. 30', 'delivery_ts': '2023-05-17 05:54:30.053000', 'rate': 5, 'sum': 4566, 'tip_sum': 684}\n",
      "6464527edd753adb31ef17b4 {'order_id': '6464527edd753adb31ef17b4', 'order_ts': '2023-05-17 04:05:18.216000', 'delivery_id': 'ganbb5yun5ufpgkcwktkpcx', 'courier_id': '96ljqi2uwkxkbvfy6bd6ve3', 'address': 'Ул. Садовая, 3, кв. 326', 'delivery_ts': '2023-05-17 05:07:22.089000', 'rate': 5, 'sum': 2233, 'tip_sum': 223}\n"
     ]
    }
   ],
   "source": [
    "for i in requests.get(url_del, headers = headers, params = params_del).json():\n",
    "    print((i['order_id']), i)"
   ]
  },
  {
   "cell_type": "code",
   "execution_count": 17,
   "id": "9a8852f5",
   "metadata": {},
   "outputs": [
    {
     "name": "stdout",
     "output_type": "stream",
     "text": [
      "{'order_id': '646419187276530ad462d9cd', 'order_ts': '2023-05-17 00:00:24.007000', 'delivery_id': '0ju8jfbtke89e8y3xiqwa5w', 'courier_id': 'z5gbv923eciunl3xdfdildt', 'address': 'Ул. Академика Королева, 15, кв. 153', 'delivery_ts': '2023-05-17 01:36:32.834000', 'rate': 5, 'sum': 170, 'tip_sum': 8}\n",
      "{'order_id': '64641a3ee6d2ac34aa5d78cb', 'order_ts': '2023-05-17 00:05:18.334000', 'delivery_id': '7du22yewnkg4lap5bsv8ynt', 'courier_id': 'hjq1h2pdmxswsm1txmlixco', 'address': 'Ул. Металлургов, 4, кв. 352', 'delivery_ts': '2023-05-17 01:41:27.097000', 'rate': 5, 'sum': 1062, 'tip_sum': 53}\n",
      "{'order_id': '64641b6a466dba08f0b7b811', 'order_ts': '2023-05-17 00:10:18.985000', 'delivery_id': '21bcxcs3gwe441mund3rk35', 'courier_id': '4icgpz6w7rhvl37evts9wzs', 'address': 'Ул. Льва Толстого, 1, кв. 92', 'delivery_ts': '2023-05-17 01:43:23.142000', 'rate': 4, 'sum': 489, 'tip_sum': 73}\n",
      "{'order_id': '64641c94b9133fdd3da24b93', 'order_ts': '2023-05-17 00:15:16.738000', 'delivery_id': 'i6nl13dribd4r687152c915', 'courier_id': 'fqtxpwqhxh4uj2t4gg3x8ha', 'address': 'Ул. Советская, 10, кв. 427', 'delivery_ts': '2023-05-17 00:43:23.838000', 'rate': 5, 'sum': 2456, 'tip_sum': 245}\n",
      "{'order_id': '64641dc3af37cde0e37694aa', 'order_ts': '2023-05-17 00:20:19.751000', 'delivery_id': 'jevz3yhi9n066lrlpazaicl', 'courier_id': 'j0iv5zlh2ch3qlsyrh6b67y', 'address': 'Ул. Советская, 4, кв. 250', 'delivery_ts': '2023-05-17 01:48:29.716000', 'rate': 5, 'sum': 2686, 'tip_sum': 268}\n",
      "{'order_id': '64641eed00aa2faef52bc5cd', 'order_ts': '2023-05-17 00:25:17.457000', 'delivery_id': 'bmjk4bhzy4q0czxnyb5eqv8', 'courier_id': 'yt5mw7kp62hp6r5gd7jol0i', 'address': 'Ул. Молодежная, 13, кв. 329', 'delivery_ts': '2023-05-17 01:25:23.384000', 'rate': 5, 'sum': 1664, 'tip_sum': 249}\n",
      "{'order_id': '6464201dcdf9a40a8a8bf319', 'order_ts': '2023-05-17 00:30:21.304000', 'delivery_id': 'sc4gtqmguuyixm6jvrulgpm', 'courier_id': 'yui2mubwhtk0799nvkxlb21', 'address': 'Ул. Зеленая, 4, кв. 36', 'delivery_ts': '2023-05-17 01:18:29.798000', 'rate': 5, 'sum': 3787, 'tip_sum': 378}\n",
      "{'order_id': '646421453620de54f906e0ff', 'order_ts': '2023-05-17 00:35:17.576000', 'delivery_id': '2s9043dtvblkctkfxav3u13', 'courier_id': 'a8fm95qfh4rxa0dwvohudef', 'address': 'Ул. Льва Толстого, 8, кв. 378', 'delivery_ts': '2023-05-17 01:08:18.585000', 'rate': 4, 'sum': 495, 'tip_sum': 74}\n",
      "{'order_id': '64642273178b9b0e0d191b64', 'order_ts': '2023-05-17 00:40:19.096000', 'delivery_id': 'bbdkhub5tiitypoccau0uz8', 'courier_id': 'rbcladdt6r1f9ohfdys2npw', 'address': 'Ул. Молодежная, 15, кв. 94', 'delivery_ts': '2023-05-17 01:21:25.375000', 'rate': 3, 'sum': 1562, 'tip_sum': 78}\n",
      "{'order_id': '6464239f995db5201955351d', 'order_ts': '2023-05-17 00:45:19.128000', 'delivery_id': 'v5ziesudtrecy9ltdvn0du9', 'courier_id': '1k7ylowe2lez8lubf4w3h5r', 'address': 'Ул. Красная, 2, кв. 288', 'delivery_ts': '2023-05-17 01:37:23.805000', 'rate': 5, 'sum': 4199, 'tip_sum': 419}\n",
      "{'order_id': '646424ca4047477d82797857', 'order_ts': '2023-05-17 00:50:18.792000', 'delivery_id': 'fyc6o0rvmpp25p89qei1bxz', 'courier_id': 'tr44dk3r7bwuarq2fw94p9h', 'address': 'Ул. Лесная, 14, кв. 278', 'delivery_ts': '2023-05-17 01:30:21.500000', 'rate': 5, 'sum': 2088, 'tip_sum': 104}\n",
      "{'order_id': '646425f69ba241d7cba499d7', 'order_ts': '2023-05-17 00:55:18.617000', 'delivery_id': 'nlo272185xfog50c8mh0n7a', 'courier_id': 'h79pcubiqeazt35dv7180ym', 'address': 'Ул. Старая, 6, кв. 196', 'delivery_ts': '2023-05-17 02:34:20.282000', 'rate': 5, 'sum': 3143, 'tip_sum': 471}\n",
      "{'order_id': '6464272759161644db8b95ce', 'order_ts': '2023-05-17 01:00:23.003000', 'delivery_id': 'n70amdw29simdaann7e6h88', 'courier_id': 'krrzc3fl9lk0kwld3r0redj', 'address': 'Ул. Старая, 2, кв. 3', 'delivery_ts': '2023-05-17 02:57:26.695000', 'rate': 5, 'sum': 3218, 'tip_sum': 321}\n",
      "{'order_id': '6464284ece6c35619edb90ee', 'order_ts': '2023-05-17 01:05:18.314000', 'delivery_id': '0r8fzcdaz7i57638qtx5nuc', 'courier_id': 'z5gbv923eciunl3xdfdildt', 'address': 'Ул. Академика Королева, 12, кв. 222', 'delivery_ts': '2023-05-17 01:36:23.197000', 'rate': 5, 'sum': 158, 'tip_sum': 7}\n",
      "{'order_id': '6464297a713b687e123f90ec', 'order_ts': '2023-05-17 01:10:18.749000', 'delivery_id': 'iyw005v6xvjijsw51w0v02y', 'courier_id': 'roropa6q5rx4nsf6ekrvmmx', 'address': 'Ул. Советская, 9, кв. 259', 'delivery_ts': '2023-05-17 01:26:19.993000', 'rate': 5, 'sum': 2547, 'tip_sum': 254}\n",
      "{'order_id': '64642aa707b77a7058655b24', 'order_ts': '2023-05-17 01:15:19.280000', 'delivery_id': 'zwtx3pq5cvdu494gxkz21d9', 'courier_id': '0iebleqc2cq7qic5ypjumz0', 'address': 'Ул. Зеленая, 14, кв. 272', 'delivery_ts': '2023-05-17 02:55:21.147000', 'rate': 5, 'sum': 4722, 'tip_sum': 708}\n",
      "{'order_id': '64642bd4b86f72933e60caaa', 'order_ts': '2023-05-17 01:20:20.406000', 'delivery_id': 'nkbv3aov0d7mr2xkqdlc40n', 'courier_id': 'cw3vvm81m3cvoncoui7cym6', 'address': 'Ул. Старая, 6, кв. 90', 'delivery_ts': '2023-05-17 02:37:22.248000', 'rate': 5, 'sum': 3099, 'tip_sum': 309}\n",
      "{'order_id': '64642cfd5a0f66f80a5ce359', 'order_ts': '2023-05-17 01:25:17.283000', 'delivery_id': 'ql6b7z2zccwo55cqobavqf3', 'courier_id': 'w77armsiao8l9h0hj6vwwn6', 'address': 'Ул. Заречная, 6, кв. 52', 'delivery_ts': '2023-05-17 02:02:20.277000', 'rate': 5, 'sum': 3580, 'tip_sum': 358}\n",
      "{'order_id': '64642e2b05feccf7dda62205', 'order_ts': '2023-05-17 01:30:19.532000', 'delivery_id': '7gyas4g8dpo156z3hgwd6cw', 'courier_id': '6l88rr9922wf0fow0vbgxzq', 'address': 'Ул. Металлургов, 5, кв. 278', 'delivery_ts': '2023-05-17 02:06:27.888000', 'rate': 5, 'sum': 1118, 'tip_sum': 55}\n",
      "{'order_id': '64642f567cf763f25d00e238', 'order_ts': '2023-05-17 01:35:18.227000', 'delivery_id': 'y0hc47j8w5hekck83ccgj2t', 'courier_id': 'l3h6ig7pxljkw0hy91zyvo6', 'address': 'Ул. Академика Королева, 13, кв. 473', 'delivery_ts': '2023-05-17 02:25:22.450000', 'rate': 5, 'sum': 4613, 'tip_sum': 691}\n",
      "{'order_id': '646430835e100d1ad693af99', 'order_ts': '2023-05-17 01:40:19.221000', 'delivery_id': 'd034e50l4wmh6l6pyhyx5z6', 'courier_id': 'wkg3tf3j0yhb3gvawqjs696', 'address': 'Ул. Школьная, 1, кв. 26', 'delivery_ts': '2023-05-17 02:03:23.884000', 'rate': 5, 'sum': 1930, 'tip_sum': 96}\n",
      "{'order_id': '646431b99da578f80fffd155', 'order_ts': '2023-05-17 01:45:29.416000', 'delivery_id': '1633rwozrdbtut9t8743m1d', 'courier_id': 'daj43xq3kgye0uinwc37pyu', 'address': 'Ул. Академика Королева, 10, кв. 53', 'delivery_ts': '2023-05-17 02:06:31.386000', 'rate': 5, 'sum': 4875, 'tip_sum': 731}\n",
      "{'order_id': '646432db73562420c2228767', 'order_ts': '2023-05-17 01:50:19.396000', 'delivery_id': 'ekg0alnvz04q26pbxrqmwwq', 'courier_id': '6k4cthaiqwse7zg6tey7mvl', 'address': 'Ул. Лесная, 6, кв. 135', 'delivery_ts': '2023-05-17 03:21:20.437000', 'rate': 5, 'sum': 1980, 'tip_sum': 99}\n",
      "{'order_id': '64643404f9daae06912974c0', 'order_ts': '2023-05-17 01:55:16.503000', 'delivery_id': 'z59wgdt4teb7577pxqwuohv', 'courier_id': 'r2u4m8r8lbn18qigsunb5mx', 'address': 'Ул. Мира, 11, кв. 75', 'delivery_ts': '2023-05-17 03:24:25.821000', 'rate': 5, 'sum': 4631, 'tip_sum': 694}\n",
      "{'order_id': '646435395fb9d755de8e79d5', 'order_ts': '2023-05-17 02:00:25.153000', 'delivery_id': 'sqi6b64rs8rrrvcxxs4b3l8', 'courier_id': 'wj32e5kx324cer5anokul6j', 'address': 'Ул. Зеленая, 7, кв. 465', 'delivery_ts': '2023-05-17 02:52:27.778000', 'rate': 5, 'sum': 3814, 'tip_sum': 381}\n",
      "{'order_id': '6464365d3a5d4c3a6700d82a', 'order_ts': '2023-05-17 02:05:17.129000', 'delivery_id': '922wzehscgoxmkvgt2ddgr9', 'courier_id': 'pkyn2u096qpgpmqbo0szg0o', 'address': 'Ул. Центральная, 11, кв. 444', 'delivery_ts': '2023-05-17 02:24:18.873000', 'rate': 5, 'sum': 1338, 'tip_sum': 66}\n",
      "{'order_id': '6464378bc9d7dde6643e67de', 'order_ts': '2023-05-17 02:10:19.024000', 'delivery_id': 'nqljep4jp3hxcaw8ovf70c0', 'courier_id': 'cw3vvm81m3cvoncoui7cym6', 'address': 'Ул. Старая, 12, кв. 215', 'delivery_ts': '2023-05-17 03:08:25.105000', 'rate': 5, 'sum': 3128, 'tip_sum': 312}\n",
      "{'order_id': '646438c0a5974621ca579f88', 'order_ts': '2023-05-17 02:15:28.892000', 'delivery_id': '0m1011gd51n5tyk6beqacjv', 'courier_id': 'v6yi37uwfvdzrg6d7jhw3yu', 'address': 'Ул. Академика Королева, 6, кв. 372', 'delivery_ts': '2023-05-17 02:32:29.990000', 'rate': 5, 'sum': 229, 'tip_sum': 11}\n",
      "{'order_id': '646439e1d9d45d22bc486dda', 'order_ts': '2023-05-17 02:20:17.610000', 'delivery_id': '4vdmua7pbbmwwc7p88hh7t2', 'courier_id': 'os9sr8uwcqpkb33uhutj6p7', 'address': 'Ул. Мира, 8, кв. 111', 'delivery_ts': '2023-05-17 04:01:24.275000', 'rate': 5, 'sum': 685, 'tip_sum': 34}\n",
      "{'order_id': '64643b0f441326d92e3c10a8', 'order_ts': '2023-05-17 02:25:19.089000', 'delivery_id': 'h2kuggmxfbphx3a6687ac4n', 'courier_id': 'gtzj0wwy62yu3hjo00yd810', 'address': 'Ул. Садовая, 15, кв. 356', 'delivery_ts': '2023-05-17 02:44:25.304000', 'rate': 5, 'sum': 2450, 'tip_sum': 245}\n",
      "{'order_id': '64643c3f6bab4158d5d563df', 'order_ts': '2023-05-17 02:30:23.818000', 'delivery_id': 'ykux6tekli8913y6ipkp6gw', 'courier_id': 'vk872ce5oxp1xuux1vpi3lw', 'address': 'Ул. Новая, 8, кв. 270', 'delivery_ts': '2023-05-17 02:57:32.386000', 'rate': 5, 'sum': 4521, 'tip_sum': 678}\n",
      "{'order_id': '64643d65f795c37074453472', 'order_ts': '2023-05-17 02:35:17.850000', 'delivery_id': 'rw4sl6m5hj10ltbdj2b0i6i', 'courier_id': '87sphz96dyqs49xa3kyru4g', 'address': 'Ул. Заречная, 9, кв. 436', 'delivery_ts': '2023-05-17 04:08:19.891000', 'rate': 5, 'sum': 3686, 'tip_sum': 368}\n",
      "{'order_id': '64643e92366f1e0cddcd9629', 'order_ts': '2023-05-17 02:40:18.254000', 'delivery_id': 'kdo309xetyy36dkjabtcn8s', 'courier_id': 'mik2erlid2t85ssd6qsko0m', 'address': 'Ул. Новая, 13, кв. 111', 'delivery_ts': '2023-05-17 03:44:20.040000', 'rate': 5, 'sum': 4887, 'tip_sum': 733}\n",
      "{'order_id': '64643fbf2f54330a4bfa2b11', 'order_ts': '2023-05-17 02:45:19.884000', 'delivery_id': 'tt002alkgvk9mpjgx28jioz', 'courier_id': '9pi75ujtepnkpooloim8035', 'address': 'Ул. Зеленая, 8, кв. 395', 'delivery_ts': '2023-05-17 03:00:20.908000', 'rate': 5, 'sum': 3928, 'tip_sum': 392}\n",
      "{'order_id': '646440eb679437cdc3f9e701', 'order_ts': '2023-05-17 02:50:19.363000', 'delivery_id': 'riikg2dr3yarqyvpzesxxbh', 'courier_id': '87sphz96dyqs49xa3kyru4g', 'address': 'Ул. Заречная, 10, кв. 362', 'delivery_ts': '2023-05-17 03:41:25.164000', 'rate': 5, 'sum': 3692, 'tip_sum': 369}\n",
      "{'order_id': '646442158cf3ba01f6111eb1', 'order_ts': '2023-05-17 02:55:17.994000', 'delivery_id': 'tq55yv9uzu1pxo4j26ny0v7', 'courier_id': '86c675qhsw65l4wkqbxlkke', 'address': 'Ул. Зеленая, 7, кв. 335', 'delivery_ts': '2023-05-17 03:20:20.432000', 'rate': 5, 'sum': 3953, 'tip_sum': 592}\n",
      "{'order_id': '6464434cbddcac7c8edbd57a', 'order_ts': '2023-05-17 03:00:28.382000', 'delivery_id': '48lfwl24lo3wlotnh1pw990', 'courier_id': 'os9sr8uwcqpkb33uhutj6p7', 'address': 'Ул. Мира, 12, кв. 309', 'delivery_ts': '2023-05-17 04:49:31.674000', 'rate': 5, 'sum': 720, 'tip_sum': 36}\n",
      "{'order_id': '6464446d8e12d6070406af22', 'order_ts': '2023-05-17 03:05:17.413000', 'delivery_id': '30f76seb9qkifc32meorcvw', 'courier_id': 'yc72wir40h5maqf4m83x7i5', 'address': 'Ул. Льва Толстого, 1, кв. 360', 'delivery_ts': '2023-05-17 03:51:20.438000', 'rate': 5, 'sum': 657, 'tip_sum': 32}\n",
      "{'order_id': '6464459b6e8cbda756dabc85', 'order_ts': '2023-05-17 03:10:19.204000', 'delivery_id': '0y830cxoeezqz9glg8v18vh', 'courier_id': 'v6yi37uwfvdzrg6d7jhw3yu', 'address': 'Ул. Академика Королева, 9, кв. 68', 'delivery_ts': '2023-05-17 03:32:20.357000', 'rate': 5, 'sum': 231, 'tip_sum': 11}\n",
      "{'order_id': '646446c730138060c5de17e8', 'order_ts': '2023-05-17 03:15:19.321000', 'delivery_id': 'sasuaajwu0rppoezu5g7smp', 'courier_id': 'yui2mubwhtk0799nvkxlb21', 'address': 'Ул. Зеленая, 3, кв. 453', 'delivery_ts': '2023-05-17 04:27:28.108000', 'rate': 5, 'sum': 3789, 'tip_sum': 378}\n",
      "{'order_id': '646447f28a012e8f90141e49', 'order_ts': '2023-05-17 03:20:18.961000', 'delivery_id': 'fcdp5w3rt6ixfw98m941sh9', 'courier_id': 'tr44dk3r7bwuarq2fw94p9h', 'address': 'Ул. Лесная, 4, кв. 105', 'delivery_ts': '2023-05-17 04:25:21.241000', 'rate': 5, 'sum': 2130, 'tip_sum': 106}\n",
      "{'order_id': '6464491ea539a5de0dbd37ba', 'order_ts': '2023-05-17 03:25:18.730000', 'delivery_id': 'wdmidqmngtzd3iurrojyd1a', 'courier_id': 'o9940xhc44qs2e4t26j5t8c', 'address': 'Ул. Школьная, 6, кв. 145', 'delivery_ts': '2023-05-17 04:06:26.484000', 'rate': 5, 'sum': 4338, 'tip_sum': 650}\n",
      "{'order_id': '64644a4df58e9c32ed86427d', 'order_ts': '2023-05-17 03:30:21.822000', 'delivery_id': '63h2x554z246sn9jadgtrqn', 'courier_id': '7xbbkfktcq86r3jmhh95k3o', 'address': 'Ул. Металлургов, 14, кв. 26', 'delivery_ts': '2023-05-17 05:14:27.384000', 'rate': 5, 'sum': 1035, 'tip_sum': 51}\n",
      "{'order_id': '64644b75bc7898efaef5f10b', 'order_ts': '2023-05-17 03:35:17.151000', 'delivery_id': '9retmoh0np1cdlp1mh07ayd', 'courier_id': 'fcslzn6cf5yvnpmjmk3e0ft', 'address': 'Ул. Центральная, 7, кв. 119', 'delivery_ts': '2023-05-17 04:49:24.015000', 'rate': 5, 'sum': 1423, 'tip_sum': 71}\n",
      "{'order_id': '64644ca279569706b3e5bbc1', 'order_ts': '2023-05-17 03:40:18.392000', 'delivery_id': 'srpnjzuw06jllsnhhlbd1sp', 'courier_id': 'yui2mubwhtk0799nvkxlb21', 'address': 'Ул. Зеленая, 14, кв. 303', 'delivery_ts': '2023-05-17 04:50:26.031000', 'rate': 5, 'sum': 3779, 'tip_sum': 377}\n",
      "{'order_id': '64644dcf8bef2dce5facee0a', 'order_ts': '2023-05-17 03:45:19.657000', 'delivery_id': 'a6bbig0khysvjgxyy5iixgc', 'courier_id': 'g1v15eqjovdt5nzexmzsia9', 'address': 'Ул. Молодежная, 2, кв. 454', 'delivery_ts': '2023-05-17 04:22:23.522000', 'rate': 5, 'sum': 1472, 'tip_sum': 220}\n",
      "{'order_id': '64644efab7c5ee4457e25960', 'order_ts': '2023-05-17 03:50:18.186000', 'delivery_id': '0kw8igwkw5d9cs8vwezzidt', 'courier_id': 'z5gbv923eciunl3xdfdildt', 'address': 'Ул. Академика Королева, 11, кв. 168', 'delivery_ts': '2023-05-17 05:10:21.367000', 'rate': 5, 'sum': 206, 'tip_sum': 10}\n",
      "{'order_id': '64645025b49c6eeb9d545c05', 'order_ts': '2023-05-17 03:55:17.471000', 'delivery_id': 'c4r6srps0w1laj4m270yb04', 'courier_id': '9zwwqut6dtti6btt3jhwk5l', 'address': 'Ул. Школьная, 2, кв. 220', 'delivery_ts': '2023-05-17 04:23:25.817000', 'rate': 5, 'sum': 1795, 'tip_sum': 269}\n",
      "{'order_id': '64645159600a6f117dc3e36a', 'order_ts': '2023-05-17 04:00:25.250000', 'delivery_id': 'yf23egfa18id5grvjk2bzdv', 'courier_id': 'l3h6ig7pxljkw0hy91zyvo6', 'address': 'Ул. Лесная, 1, кв. 30', 'delivery_ts': '2023-05-17 05:54:30.053000', 'rate': 5, 'sum': 4566, 'tip_sum': 684}\n",
      "{'order_id': '6464527edd753adb31ef17b4', 'order_ts': '2023-05-17 04:05:18.216000', 'delivery_id': 'ganbb5yun5ufpgkcwktkpcx', 'courier_id': '96ljqi2uwkxkbvfy6bd6ve3', 'address': 'Ул. Садовая, 3, кв. 326', 'delivery_ts': '2023-05-17 05:07:22.089000', 'rate': 5, 'sum': 2233, 'tip_sum': 223}\n",
      "50\n"
     ]
    }
   ],
   "source": [
    "a = 0\n",
    "for i in requests.get(url_del, headers = headers, params = params_del).json():\n",
    "    print(i)\n",
    "    a+=1\n",
    "print(a)"
   ]
  },
  {
   "cell_type": "code",
   "execution_count": 34,
   "id": "a041b4e3",
   "metadata": {},
   "outputs": [],
   "source": [
    "date = "
   ]
  },
  {
   "cell_type": "code",
   "execution_count": 35,
   "id": "669dec54",
   "metadata": {},
   "outputs": [
    {
     "ename": "AttributeError",
     "evalue": "'int' object has no attribute 'today'",
     "output_type": "error",
     "traceback": [
      "\u001b[0;31m---------------------------------------------------------------------------\u001b[0m",
      "\u001b[0;31mAttributeError\u001b[0m                            Traceback (most recent call last)",
      "Cell \u001b[0;32mIn[35], line 1\u001b[0m\n\u001b[0;32m----> 1\u001b[0m d \u001b[38;5;241m=\u001b[39m (\u001b[43mdate\u001b[49m\u001b[38;5;241;43m.\u001b[39;49m\u001b[43mtoday\u001b[49m() \u001b[38;5;241m-\u001b[39m timedelta(days\u001b[38;5;241m=\u001b[39m\u001b[38;5;241m7\u001b[39m))\u001b[38;5;241m.\u001b[39misoformat()\n",
      "\u001b[0;31mAttributeError\u001b[0m: 'int' object has no attribute 'today'"
     ]
    }
   ],
   "source": [
    "d = (date.today() - timedelta(days=7)).isoformat()"
   ]
  },
  {
   "cell_type": "code",
   "execution_count": 29,
   "id": "98bdb6b0",
   "metadata": {},
   "outputs": [
    {
     "data": {
      "text/plain": [
       "datetime.datetime(2023, 5, 11, 0, 0)"
      ]
     },
     "execution_count": 29,
     "metadata": {},
     "output_type": "execute_result"
    }
   ],
   "source": [
    "datetime.fromisoformat(date)"
   ]
  },
  {
   "cell_type": "code",
   "execution_count": null,
   "id": "7d5b4bd5",
   "metadata": {},
   "outputs": [],
   "source": []
  }
 ],
 "metadata": {
  "kernelspec": {
   "display_name": "Python 3 (ipykernel)",
   "language": "python",
   "name": "python3"
  },
  "language_info": {
   "codemirror_mode": {
    "name": "ipython",
    "version": 3
   },
   "file_extension": ".py",
   "mimetype": "text/x-python",
   "name": "python",
   "nbconvert_exporter": "python",
   "pygments_lexer": "ipython3",
   "version": "3.10.9"
  }
 },
 "nbformat": 4,
 "nbformat_minor": 5
}
