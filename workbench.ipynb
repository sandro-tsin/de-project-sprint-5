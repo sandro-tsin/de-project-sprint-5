{
 "cells": [
  {
   "cell_type": "code",
   "execution_count": 1,
   "id": "314a3fef",
   "metadata": {},
   "outputs": [],
   "source": [
    "import requests\n",
    "import pandas as pd\n",
    "from pandas import json_normalize\n",
    "import time \n",
    "import json\n",
    "from datetime import date, timedelta, datetime"
   ]
  },
  {
   "cell_type": "code",
   "execution_count": 2,
   "id": "8c438aa7",
   "metadata": {},
   "outputs": [],
   "source": [
    "url_rest = 'https://d5d04q7d963eapoepsqr.apigw.yandexcloud.net/restaurants'\n",
    "url_cour = 'https://d5d04q7d963eapoepsqr.apigw.yandexcloud.net/couriers'\n",
    "url_del = 'https://d5d04q7d963eapoepsqr.apigw.yandexcloud.net/deliveries'"
   ]
  },
  {
   "cell_type": "code",
   "execution_count": 3,
   "id": "cfab7665",
   "metadata": {},
   "outputs": [],
   "source": [
    "headers = {'X-Nickname': 'sandrotsin',\n",
    "            'X-Cohort': '12',\n",
    "            'X-API-KEY': '25c27781-8fde-4b30-a22e-524044a7580f'}"
   ]
  },
  {
   "cell_type": "code",
   "execution_count": 4,
   "id": "ee8bb461",
   "metadata": {},
   "outputs": [
    {
     "data": {
      "text/plain": [
       "[{'_id': '626a81cfefa404208fe9abae', 'name': 'Кофейня №1'},\n",
       " {'_id': 'a51e4e31ae4602047ec52534', 'name': 'Кубдари'},\n",
       " {'_id': 'ebfa4c9b8dadfc1da37ab58d', 'name': 'PLove'},\n",
       " {'_id': 'ef8c42c19b7518a9aebec106', 'name': 'Вкус Индии'}]"
      ]
     },
     "execution_count": 4,
     "metadata": {},
     "output_type": "execute_result"
    }
   ],
   "source": [
    "requests.get(url_rest, headers = headers).json()"
   ]
  },
  {
   "cell_type": "code",
   "execution_count": 5,
   "id": "24a1fe61",
   "metadata": {},
   "outputs": [],
   "source": [
    "params_cour = {\n",
    "    'sort_field': '_id',\n",
    "    'sort_direction': 'asc',\n",
    "    'limit': 50,\n",
    "    'offset': 0\n",
    "}"
   ]
  },
  {
   "cell_type": "code",
   "execution_count": 6,
   "id": "37eb5220",
   "metadata": {},
   "outputs": [
    {
     "data": {
      "text/plain": [
       "[{'_id': '04s1egx0e4b733hvr02slru', 'name': 'Александра Орлова'},\n",
       " {'_id': '0ieb5y1n58f2crnyvwo037x', 'name': 'Иван Михайлов'},\n",
       " {'_id': '0iebleqc2cq7qic5ypjumz0', 'name': 'Евгений Васильев'},\n",
       " {'_id': '1jrlode3nipbvqp6gnbogkl', 'name': 'Надежда Егорова'},\n",
       " {'_id': '1k7ylowe2lez8lubf4w3h5r', 'name': 'Эдуард Васильев'},\n",
       " {'_id': '2dzqh5x89y3w3g0cjh59pbj', 'name': 'Евгения Великая'},\n",
       " {'_id': '3o1jct7pdnpe7gm0ejb9i0f', 'name': 'Анна Лебедева'},\n",
       " {'_id': '4icgpz6w7rhvl37evts9wzs', 'name': 'Геннадий Смирнов'},\n",
       " {'_id': '5nj2ruf5wohguey7bmosqq6', 'name': 'Александр Петров'},\n",
       " {'_id': '6hrl1sha17c8yoedgq68ylh', 'name': 'Константин Петров'},\n",
       " {'_id': '6k4cthaiqwse7zg6tey7mvl', 'name': 'Сергей Иванов'},\n",
       " {'_id': '6l88rr9922wf0fow0vbgxzq', 'name': 'Снежанна Алексеева'},\n",
       " {'_id': '6zmstsu8s9zryihu0uzzwvj', 'name': 'Олег Попов'},\n",
       " {'_id': '7xbbkfktcq86r3jmhh95k3o', 'name': 'Снежанна Морозова'},\n",
       " {'_id': '86c675qhsw65l4wkqbxlkke', 'name': 'Александр Соколов'},\n",
       " {'_id': '87sphz96dyqs49xa3kyru4g', 'name': 'Екатерина Лебедева'},\n",
       " {'_id': '8wd9stf34d4iw21u9c3wwin', 'name': 'Олег Иванов'},\n",
       " {'_id': '96ljqi2uwkxkbvfy6bd6ve3', 'name': 'Геннадий Михайлов'},\n",
       " {'_id': '9ifn9s9n7m52c0mhzcg5j4q', 'name': 'Евгения Алексеева'},\n",
       " {'_id': '9pi75ujtepnkpooloim8035', 'name': 'Снежанна Павлова'},\n",
       " {'_id': '9wnoiwf668e4yf6x48rjtkr', 'name': 'Елизавета Волкова'},\n",
       " {'_id': '9zwwqut6dtti6btt3jhwk5l', 'name': 'Константин Смирнов'},\n",
       " {'_id': 'a8fm95qfh4rxa0dwvohudef', 'name': 'Александра Орлова'},\n",
       " {'_id': 'avdypjwsv4l21rvvvd7cmpz', 'name': 'Анна Егорова'},\n",
       " {'_id': 'biaw7kemx540azf8hadrd0v', 'name': 'Алексей Соколов'},\n",
       " {'_id': 'bjpytz3qoc7sh39l3fgr2ed', 'name': 'Снежанна Морозова'},\n",
       " {'_id': 'blu1akxk49amn5lq5cy2epr', 'name': 'Евгений Сидоров'},\n",
       " {'_id': 'c8rp0a6lpuujs8d022xna73', 'name': 'Екатерина Алексеева'},\n",
       " {'_id': 'cjx78y9atglzrvhvni5h7jr', 'name': 'Елизавета Павлова'},\n",
       " {'_id': 'clqwesbljtjbmuw69hy70nh', 'name': 'Иван Кузнецов'},\n",
       " {'_id': 'cmy0aieomefimne4nvnoibl', 'name': 'Эдуард Новиков'},\n",
       " {'_id': 'cw3vvm81m3cvoncoui7cym6', 'name': 'Светлана Морозова'},\n",
       " {'_id': 'cx5stjx4m6mijwoupliq8rr', 'name': 'Александра Павлова'},\n",
       " {'_id': 'daj43xq3kgye0uinwc37pyu', 'name': 'Екатерина Алексеева'},\n",
       " {'_id': 'dffh6ji04wj5g5o5lpzrnxh', 'name': 'Анна Орлова'},\n",
       " {'_id': 'di49e5cto9nnmlf2v87f0sa', 'name': 'Олег Новиков'},\n",
       " {'_id': 'fcgncflctl4l5lujqrkla2i', 'name': 'Геннадий Васильев'},\n",
       " {'_id': 'fcslzn6cf5yvnpmjmk3e0ft', 'name': 'Светлана Егорова'},\n",
       " {'_id': 'fjr4lpnobszenjlokxlw6j6', 'name': 'Снежанна Волкова'},\n",
       " {'_id': 'fnxe59g811rq86tz58zkdx6', 'name': 'Снежанна Лебедева'},\n",
       " {'_id': 'fqtxpwqhxh4uj2t4gg3x8ha', 'name': 'Иван Сидоров'},\n",
       " {'_id': 'fxo1xo7bp4i72jkjthejb2g', 'name': 'Светлана Алексеева'},\n",
       " {'_id': 'fy1eiytvgdezftuu43f64q6', 'name': 'Екатерина Егорова'},\n",
       " {'_id': 'g1v15eqjovdt5nzexmzsia9', 'name': 'Петр Иванов'},\n",
       " {'_id': 'g4df8o7ypuq496s81n0kzjz', 'name': 'Елизавета Козлова'},\n",
       " {'_id': 'g61lr92atmmj42c7zr8z96b', 'name': 'Екатерина Павлова'},\n",
       " {'_id': 'gtzj0wwy62yu3hjo00yd810', 'name': 'Эдуард Кузнецов'},\n",
       " {'_id': 'h0hi0ilswc1bvw7ovdvbk44', 'name': 'Олег Иванов'},\n",
       " {'_id': 'h79pcubiqeazt35dv7180ym', 'name': 'Оксана Орлова'},\n",
       " {'_id': 'hgg0aamiltt972eziivjowx', 'name': 'Александра Егорова'}]"
      ]
     },
     "execution_count": 6,
     "metadata": {},
     "output_type": "execute_result"
    }
   ],
   "source": [
    "requests.get(url_cour, headers = headers, params = params_cour).json()"
   ]
  },
  {
   "cell_type": "code",
   "execution_count": 7,
   "id": "e027f81c",
   "metadata": {},
   "outputs": [
    {
     "data": {
      "text/plain": [
       "'2023-05-19 00:00:00'"
      ]
     },
     "execution_count": 7,
     "metadata": {},
     "output_type": "execute_result"
    }
   ],
   "source": [
    "date_f = (date.today() - timedelta(days=1)).strftime(\"%Y-%m-%d %H:%M:%S\")\n",
    "date_f"
   ]
  },
  {
   "cell_type": "code",
   "execution_count": 8,
   "id": "0e7fa294",
   "metadata": {},
   "outputs": [
    {
     "data": {
      "text/plain": [
       "'2023-05-20 00:00:00'"
      ]
     },
     "execution_count": 8,
     "metadata": {},
     "output_type": "execute_result"
    }
   ],
   "source": [
    "date_t = date.today().strftime(\"%Y-%m-%d 00:00:00\")\n",
    "date_t"
   ]
  },
  {
   "cell_type": "code",
   "execution_count": 9,
   "id": "49219836",
   "metadata": {},
   "outputs": [],
   "source": [
    "params_del = {\n",
    "    'sort_field': 'date',\n",
    "    'sort_direction': 'asc',\n",
    "    'limit': 50,\n",
    "    'offset': 0,\n",
    "    'from': date_f,\n",
    "    'to': date_t\n",
    "}"
   ]
  },
  {
   "cell_type": "code",
   "execution_count": 10,
   "id": "8723d30c",
   "metadata": {},
   "outputs": [],
   "source": [
    "load_queue = requests.get(url_del, headers = headers, params = params_del).json()"
   ]
  },
  {
   "cell_type": "code",
   "execution_count": 17,
   "id": "72d7953f",
   "metadata": {},
   "outputs": [
    {
     "data": {
      "text/plain": [
       "[{'order_id': '6466bc1aa1b090030336121b',\n",
       "  'order_ts': '2023-05-19 00:00:26.737000',\n",
       "  'delivery_id': '57g9lmtvupbobwi2kg9r7gn',\n",
       "  'courier_id': 'webn7sinpeb5628ogydibdf',\n",
       "  'address': 'Ул. Мира, 2, кв. 133',\n",
       "  'delivery_ts': '2023-05-19 01:38:30.175000',\n",
       "  'rate': 5,\n",
       "  'sum': 913,\n",
       "  'tip_sum': 45},\n",
       " {'order_id': '6466bd3de2f27a4871e4cc1e',\n",
       "  'order_ts': '2023-05-19 00:05:17.675000',\n",
       "  'delivery_id': 'l4om7sk4um19d5z9tvuym6u',\n",
       "  'courier_id': 'cmy0aieomefimne4nvnoibl',\n",
       "  'address': 'Ул. Новая, 2, кв. 299',\n",
       "  'delivery_ts': '2023-05-19 01:35:24.960000',\n",
       "  'rate': 5,\n",
       "  'sum': 2931,\n",
       "  'tip_sum': 293},\n",
       " {'order_id': '6466be6ccd003864784fb591',\n",
       "  'order_ts': '2023-05-19 00:10:20.309000',\n",
       "  'delivery_id': '8kwv61wjxu4xn7k0ios3ymp',\n",
       "  'courier_id': '9wnoiwf668e4yf6x48rjtkr',\n",
       "  'address': 'Ул. Центральная, 14, кв. 162',\n",
       "  'delivery_ts': '2023-05-19 01:29:29.498000',\n",
       "  'rate': 5,\n",
       "  'sum': 1220,\n",
       "  'tip_sum': 61},\n",
       " {'order_id': '6466bf98df3f34a5cb62dc36',\n",
       "  'order_ts': '2023-05-19 00:15:20.009000',\n",
       "  'delivery_id': '6r6tnh7nzyl5tdga4fvc3kv',\n",
       "  'courier_id': '7xbbkfktcq86r3jmhh95k3o',\n",
       "  'address': 'Ул. Металлургов, 7, кв. 350',\n",
       "  'delivery_ts': '2023-05-19 02:11:22.586000',\n",
       "  'rate': 5,\n",
       "  'sum': 1014,\n",
       "  'tip_sum': 50},\n",
       " {'order_id': '6466c0c3d9a43b104f2e4de0',\n",
       "  'order_ts': '2023-05-19 00:20:19.200000',\n",
       "  'delivery_id': 'yxtb3qb8v6ky6yy03jb0rnm',\n",
       "  'courier_id': 'l3h6ig7pxljkw0hy91zyvo6',\n",
       "  'address': 'Ул. Зеленая, 15, кв. 94',\n",
       "  'delivery_ts': '2023-05-19 00:41:26.961000',\n",
       "  'rate': 5,\n",
       "  'sum': 4628,\n",
       "  'tip_sum': 694},\n",
       " {'order_id': '6466c1ed4e6ab292db291b91',\n",
       "  'order_ts': '2023-05-19 00:25:17.593000',\n",
       "  'delivery_id': 'z7y3zaxtj2ixo360dfampme',\n",
       "  'courier_id': 'ln9d4updckjcg6v6jbqvdf4',\n",
       "  'address': 'Ул. Металлургов, 9, кв. 26',\n",
       "  'delivery_ts': '2023-05-19 01:51:21.222000',\n",
       "  'rate': 4,\n",
       "  'sum': 4672,\n",
       "  'tip_sum': 700},\n",
       " {'order_id': '6466c31c8b42e13388c27a6e',\n",
       "  'order_ts': '2023-05-19 00:30:20.893000',\n",
       "  'delivery_id': 'migu3dzcvptwjg43x3sr7q9',\n",
       "  'courier_id': '8wd9stf34d4iw21u9c3wwin',\n",
       "  'address': 'Ул. Старая, 5, кв. 134',\n",
       "  'delivery_ts': '2023-05-19 01:46:22.811000',\n",
       "  'rate': 5,\n",
       "  'sum': 3029,\n",
       "  'tip_sum': 302},\n",
       " {'order_id': '6466c44619060412e27a6520',\n",
       "  'order_ts': '2023-05-19 00:35:18.541000',\n",
       "  'delivery_id': 'vz22h8v7f3j2bpegqq94deb',\n",
       "  'courier_id': '6hrl1sha17c8yoedgq68ylh',\n",
       "  'address': 'Ул. Красная, 9, кв. 22',\n",
       "  'delivery_ts': '2023-05-19 00:55:23.950000',\n",
       "  'rate': 5,\n",
       "  'sum': 4223,\n",
       "  'tip_sum': 633},\n",
       " {'order_id': '6466c573954d1b12b18e6df9',\n",
       "  'order_ts': '2023-05-19 00:40:19.805000',\n",
       "  'delivery_id': '6msfk7vqfcpki3sww91ymub',\n",
       "  'courier_id': 'fxo1xo7bp4i72jkjthejb2g',\n",
       "  'address': 'Ул. Металлургов, 6, кв. 318',\n",
       "  'delivery_ts': '2023-05-19 02:28:28.129000',\n",
       "  'rate': 5,\n",
       "  'sum': 946,\n",
       "  'tip_sum': 47},\n",
       " {'order_id': '6466c69ed08ba511f2548acb',\n",
       "  'order_ts': '2023-05-19 00:45:18.899000',\n",
       "  'delivery_id': 'e92yv61rbhyfb6uwismf7rl',\n",
       "  'courier_id': '6k4cthaiqwse7zg6tey7mvl',\n",
       "  'address': 'Ул. Лесная, 12, кв. 406',\n",
       "  'delivery_ts': '2023-05-19 01:18:20.529000',\n",
       "  'rate': 5,\n",
       "  'sum': 1958,\n",
       "  'tip_sum': 97},\n",
       " {'order_id': '6466c7cdacadbe52c651f9f4',\n",
       "  'order_ts': '2023-05-19 00:50:21.843000',\n",
       "  'delivery_id': 'sbqtp4uhwr3kcozbxy5u3na',\n",
       "  'courier_id': 'yui2mubwhtk0799nvkxlb21',\n",
       "  'address': 'Ул. Зеленая, 14, кв. 92',\n",
       "  'delivery_ts': '2023-05-19 02:33:29.520000',\n",
       "  'rate': 5,\n",
       "  'sum': 3735,\n",
       "  'tip_sum': 373},\n",
       " {'order_id': '6466c8f420b2660d79a3ac98',\n",
       "  'order_ts': '2023-05-19 00:55:16.937000',\n",
       "  'delivery_id': 'ysi11i35r24b1r2uoq8ak8x',\n",
       "  'courier_id': 'l3h6ig7pxljkw0hy91zyvo6',\n",
       "  'address': 'Ул. Зеленая, 14, кв. 152',\n",
       "  'delivery_ts': '2023-05-19 02:50:18.285000',\n",
       "  'rate': 5,\n",
       "  'sum': 4595,\n",
       "  'tip_sum': 689},\n",
       " {'order_id': '6466ca28722929d1559400dd',\n",
       "  'order_ts': '2023-05-19 01:00:24.597000',\n",
       "  'delivery_id': 's5dd4mtttejnqj7ysf0ss4e',\n",
       "  'courier_id': 'wj32e5kx324cer5anokul6j',\n",
       "  'address': 'Ул. Зеленая, 2, кв. 108',\n",
       "  'delivery_ts': '2023-05-19 01:41:26.801000',\n",
       "  'rate': 5,\n",
       "  'sum': 3799,\n",
       "  'tip_sum': 379},\n",
       " {'order_id': '6466cb4da9588619ced15f36',\n",
       "  'order_ts': '2023-05-19 01:05:17.369000',\n",
       "  'delivery_id': '938x5fxo9iitralwjucrc6n',\n",
       "  'courier_id': 'fcslzn6cf5yvnpmjmk3e0ft',\n",
       "  'address': 'Ул. Центральная, 1, кв. 68',\n",
       "  'delivery_ts': '2023-05-19 02:26:19.726000',\n",
       "  'rate': 5,\n",
       "  'sum': 1427,\n",
       "  'tip_sum': 71},\n",
       " {'order_id': '6466cc7bd10a1344e8d28240',\n",
       "  'order_ts': '2023-05-19 01:10:19.061000',\n",
       "  'delivery_id': 'gded99bu0ejr3oqeka6aguy',\n",
       "  'courier_id': 'fjr4lpnobszenjlokxlw6j6',\n",
       "  'address': 'Ул. Садовая, 4, кв. 115',\n",
       "  'delivery_ts': '2023-05-19 01:51:22.617000',\n",
       "  'rate': 5,\n",
       "  'sum': 2257,\n",
       "  'tip_sum': 338},\n",
       " {'order_id': '6466cda7117b4d7bbf812c0a',\n",
       "  'order_ts': '2023-05-19 01:15:19.141000',\n",
       "  'delivery_id': 'ranng5bppinn49fst71n00k',\n",
       "  'courier_id': 'zilq7g2n3d3bp38zw6t3urq',\n",
       "  'address': 'Ул. Заречная, 3, кв. 189',\n",
       "  'delivery_ts': '2023-05-19 03:06:26.096000',\n",
       "  'rate': 5,\n",
       "  'sum': 3613,\n",
       "  'tip_sum': 361},\n",
       " {'order_id': '6466ced3790a3119b72cfd04',\n",
       "  'order_ts': '2023-05-19 01:20:19.877000',\n",
       "  'delivery_id': 'xrdxeibvplgj1ybbggzb6k1',\n",
       "  'courier_id': 'o6xjnp15xfcnth0cd4g791i',\n",
       "  'address': 'Ул. Заречная, 4, кв. 266',\n",
       "  'delivery_ts': '2023-05-19 02:04:25.677000',\n",
       "  'rate': 5,\n",
       "  'sum': 4444,\n",
       "  'tip_sum': 666},\n",
       " {'order_id': '6466cffd3498bc72a4fc21ce',\n",
       "  'order_ts': '2023-05-19 01:25:17.160000',\n",
       "  'delivery_id': 'wp5tnyhvae4rqggxs12qwjb',\n",
       "  'courier_id': 'biaw7kemx540azf8hadrd0v',\n",
       "  'address': 'Ул. Набережная, 11, кв. 44',\n",
       "  'delivery_ts': '2023-05-19 02:39:24.292000',\n",
       "  'rate': 5,\n",
       "  'sum': 4294,\n",
       "  'tip_sum': 644},\n",
       " {'order_id': '6466d13129678adf539c4c4c',\n",
       "  'order_ts': '2023-05-19 01:30:25.470000',\n",
       "  'delivery_id': 'yxo9vd2hb0p9mqsuvkxn9ds',\n",
       "  'courier_id': 'vk872ce5oxp1xuux1vpi3lw',\n",
       "  'address': 'Ул. Набережная, 3, кв. 253',\n",
       "  'delivery_ts': '2023-05-19 02:11:27.066000',\n",
       "  'rate': 5,\n",
       "  'sum': 4516,\n",
       "  'tip_sum': 677},\n",
       " {'order_id': '6466d25609162444d9b3b4a6',\n",
       "  'order_ts': '2023-05-19 01:35:18.645000',\n",
       "  'delivery_id': 'ou5o3vvu705ryj5vhkpnc3y',\n",
       "  'courier_id': 'x7xy4ipu8lj24b5kg7fvrkl',\n",
       "  'address': 'Ул. Набережная, 13, кв. 245',\n",
       "  'delivery_ts': '2023-05-19 02:00:26.002000',\n",
       "  'rate': 5,\n",
       "  'sum': 3317,\n",
       "  'tip_sum': 331},\n",
       " {'order_id': '6466d3831994f94d070e61e7',\n",
       "  'order_ts': '2023-05-19 01:40:19.839000',\n",
       "  'delivery_id': '9qmuhnwkv3tn7w8zzmb2wpf',\n",
       "  'courier_id': 'pkyn2u096qpgpmqbo0szg0o',\n",
       "  'address': 'Ул. Центральная, 7, кв. 182',\n",
       "  'delivery_ts': '2023-05-19 02:56:25.262000',\n",
       "  'rate': 5,\n",
       "  'sum': 1345,\n",
       "  'tip_sum': 67},\n",
       " {'order_id': '6466d4ae0a3857560f5f427b',\n",
       "  'order_ts': '2023-05-19 01:45:18.361000',\n",
       "  'delivery_id': '7i1l6cp3uo5j7br8u9bu4qz',\n",
       "  'courier_id': '6l88rr9922wf0fow0vbgxzq',\n",
       "  'address': 'Ул. Металлургов, 5, кв. 11',\n",
       "  'delivery_ts': '2023-05-19 03:18:24.899000',\n",
       "  'rate': 5,\n",
       "  'sum': 1125,\n",
       "  'tip_sum': 56},\n",
       " {'order_id': '6466d5dc15d0549e3ae0c4d4',\n",
       "  'order_ts': '2023-05-19 01:50:20.929000',\n",
       "  'delivery_id': 'l45vs9jblsje5xjp35ie6zg',\n",
       "  'courier_id': 'pbxx0n4tzzxm3ol6ophsmwt',\n",
       "  'address': 'Ул. Новая, 14, кв. 35',\n",
       "  'delivery_ts': '2023-05-19 02:15:30.108000',\n",
       "  'rate': 5,\n",
       "  'sum': 2896,\n",
       "  'tip_sum': 289},\n",
       " {'order_id': '6466d7055dd4985e6940a710',\n",
       "  'order_ts': '2023-05-19 01:55:17.227000',\n",
       "  'delivery_id': 'm60gux1xadzpwf2nh4ar51m',\n",
       "  'courier_id': 'avdypjwsv4l21rvvvd7cmpz',\n",
       "  'address': 'Ул. Старая, 2, кв. 321',\n",
       "  'delivery_ts': '2023-05-19 02:10:22.455000',\n",
       "  'rate': 5,\n",
       "  'sum': 3048,\n",
       "  'tip_sum': 304},\n",
       " {'order_id': '6466d838a8647d4fa4d79100',\n",
       "  'order_ts': '2023-05-19 02:00:24.533000',\n",
       "  'delivery_id': '8rna6pp4x0zryjwenqzi2is',\n",
       "  'courier_id': '9wnoiwf668e4yf6x48rjtkr',\n",
       "  'address': 'Ул. Центральная, 7, кв. 191',\n",
       "  'delivery_ts': '2023-05-19 03:54:28.224000',\n",
       "  'rate': 5,\n",
       "  'sum': 1229,\n",
       "  'tip_sum': 61},\n",
       " {'order_id': '6466d95d25c10fd63f520d93',\n",
       "  'order_ts': '2023-05-19 02:05:17.421000',\n",
       "  'delivery_id': 'jw02u35e9tosdpcbcr2kyoz',\n",
       "  'courier_id': 'j0iv5zlh2ch3qlsyrh6b67y',\n",
       "  'address': 'Ул. Советская, 14, кв. 263',\n",
       "  'delivery_ts': '2023-05-19 02:21:19.125000',\n",
       "  'rate': 5,\n",
       "  'sum': 2678,\n",
       "  'tip_sum': 267},\n",
       " {'order_id': '6466da8a59ff06a3362153b5',\n",
       "  'order_ts': '2023-05-19 02:10:18.925000',\n",
       "  'delivery_id': 'ko51qwsiia29pevji3kbpkq',\n",
       "  'courier_id': 'yt5mw7kp62hp6r5gd7jol0i',\n",
       "  'address': 'Ул. Новая, 13, кв. 341',\n",
       "  'delivery_ts': '2023-05-19 03:13:21.297000',\n",
       "  'rate': 5,\n",
       "  'sum': 2805,\n",
       "  'tip_sum': 420},\n",
       " {'order_id': '6466dbb7f3ba85fe0435202e',\n",
       "  'order_ts': '2023-05-19 02:15:19.359000',\n",
       "  'delivery_id': 'i8jotdsjfx3dzeqr3o889ki',\n",
       "  'courier_id': '04s1egx0e4b733hvr02slru',\n",
       "  'address': 'Ул. Советская, 3, кв. 159',\n",
       "  'delivery_ts': '2023-05-19 03:18:27.802000',\n",
       "  'rate': 5,\n",
       "  'sum': 2533,\n",
       "  'tip_sum': 379},\n",
       " {'order_id': '6466dce3be787bcd158a9602',\n",
       "  'order_ts': '2023-05-19 02:20:19.959000',\n",
       "  'delivery_id': '4r9i8cz3v141ag2k9xl2sya',\n",
       "  'courier_id': 'tuyh6wixgxc0akwndb4k2i6',\n",
       "  'address': 'Ул. Мира, 7, кв. 79',\n",
       "  'delivery_ts': '2023-05-19 03:12:23.045000',\n",
       "  'rate': 5,\n",
       "  'sum': 762,\n",
       "  'tip_sum': 38},\n",
       " {'order_id': '6466de0efea8ab0cca29a4fa',\n",
       "  'order_ts': '2023-05-19 02:25:18.148000',\n",
       "  'delivery_id': 'r4b1irbech27b4gzu4tzuck',\n",
       "  'courier_id': 'rbcladdt6r1f9ohfdys2npw',\n",
       "  'address': 'Ул. Заречная, 13, кв. 33',\n",
       "  'delivery_ts': '2023-05-19 04:14:21.986000',\n",
       "  'rate': 3,\n",
       "  'sum': 3659,\n",
       "  'tip_sum': 365},\n",
       " {'order_id': '6466df3df76264f24751e96a',\n",
       "  'order_ts': '2023-05-19 02:30:21.051000',\n",
       "  'delivery_id': 'jm8jge3de13vbtasrmx0xiz',\n",
       "  'courier_id': '04s1egx0e4b733hvr02slru',\n",
       "  'address': 'Ул. Советская, 6, кв. 434',\n",
       "  'delivery_ts': '2023-05-19 03:02:27.056000',\n",
       "  'rate': 5,\n",
       "  'sum': 2587,\n",
       "  'tip_sum': 388},\n",
       " {'order_id': '6466e066c35542220ce56a3d',\n",
       "  'order_ts': '2023-05-19 02:35:18.703000',\n",
       "  'delivery_id': 'cecu1adrft2dd5xv5e694gg',\n",
       "  'courier_id': 'rbcladdt6r1f9ohfdys2npw',\n",
       "  'address': 'Ул. Школьная, 4, кв. 103',\n",
       "  'delivery_ts': '2023-05-19 03:50:20.168000',\n",
       "  'rate': 3,\n",
       "  'sum': 1812,\n",
       "  'tip_sum': 90},\n",
       " {'order_id': '6466e1940c9e98d39ed18ea4',\n",
       "  'order_ts': '2023-05-19 02:40:20.228000',\n",
       "  'delivery_id': 'ef3c9416w0y3snglbjw83hn',\n",
       "  'courier_id': 'tursz1hgcooqvgyqjunweys',\n",
       "  'address': 'Ул. Лесная, 10, кв. 127',\n",
       "  'delivery_ts': '2023-05-19 03:01:24.361000',\n",
       "  'rate': 5,\n",
       "  'sum': 2027,\n",
       "  'tip_sum': 101},\n",
       " {'order_id': '6466e2bfb238be8e7540fe3b',\n",
       "  'order_ts': '2023-05-19 02:45:19.331000',\n",
       "  'delivery_id': 'lvbl3pw20obwv0z7qez0uqk',\n",
       "  'courier_id': 'cmy0aieomefimne4nvnoibl',\n",
       "  'address': 'Ул. Новая, 8, кв. 335',\n",
       "  'delivery_ts': '2023-05-19 03:23:25.723000',\n",
       "  'rate': 5,\n",
       "  'sum': 2954,\n",
       "  'tip_sum': 295},\n",
       " {'order_id': '6466e3ebccb9f303f9c5ec29',\n",
       "  'order_ts': '2023-05-19 02:50:19.720000',\n",
       "  'delivery_id': 'zpjh7362jt5ih7jxcfnls9k',\n",
       "  'courier_id': '0iebleqc2cq7qic5ypjumz0',\n",
       "  'address': 'Ул. Набережная, 5, кв. 327',\n",
       "  'delivery_ts': '2023-05-19 03:40:22.662000',\n",
       "  'rate': 5,\n",
       "  'sum': 4720,\n",
       "  'tip_sum': 708},\n",
       " {'order_id': '6466e517d4a241d822298b72',\n",
       "  'order_ts': '2023-05-19 02:55:19.982000',\n",
       "  'delivery_id': 'lzweyha717kjhzclz7soa9t',\n",
       "  'courier_id': 'cmy0aieomefimne4nvnoibl',\n",
       "  'address': 'Ул. Новая, 9, кв. 264',\n",
       "  'delivery_ts': '2023-05-19 03:38:29.749000',\n",
       "  'rate': 5,\n",
       "  'sum': 2920,\n",
       "  'tip_sum': 292},\n",
       " {'order_id': '6466e648704c06b2b42d5c61',\n",
       "  'order_ts': '2023-05-19 03:00:24.724000',\n",
       "  'delivery_id': 'yfk7vgqk79rfz4tul2ujbec',\n",
       "  'courier_id': 'l3h6ig7pxljkw0hy91zyvo6',\n",
       "  'address': 'Ул. Лесная, 6, кв. 429',\n",
       "  'delivery_ts': '2023-05-19 04:57:27.713000',\n",
       "  'rate': 5,\n",
       "  'sum': 4603,\n",
       "  'tip_sum': 690},\n",
       " {'order_id': '6466e76d701950c60a7a2be3',\n",
       "  'order_ts': '2023-05-19 03:05:17.411000',\n",
       "  'delivery_id': 'a5jsi98keccz1jo328krs9l',\n",
       "  'courier_id': '9ifn9s9n7m52c0mhzcg5j4q',\n",
       "  'address': 'Ул. Молодежная, 14, кв. 450',\n",
       "  'delivery_ts': '2023-05-19 03:30:23.282000',\n",
       "  'rate': 5,\n",
       "  'sum': 1474,\n",
       "  'tip_sum': 73},\n",
       " {'order_id': '6466e89bd97b5c8ab7f83776',\n",
       "  'order_ts': '2023-05-19 03:10:19.848000',\n",
       "  'delivery_id': 'fr77wl3r0nwhdayik0vdhri',\n",
       "  'courier_id': 'lv9vfiv22c8bgsrcvbjjoia',\n",
       "  'address': 'Ул. Лесная, 10, кв. 221',\n",
       "  'delivery_ts': '2023-05-19 04:57:22.766000',\n",
       "  'rate': 5,\n",
       "  'sum': 2183,\n",
       "  'tip_sum': 109},\n",
       " {'order_id': '6466e9c8f4344c4868dfd909',\n",
       "  'order_ts': '2023-05-19 03:15:20.115000',\n",
       "  'delivery_id': 'gbmj2ev5t3d8o4gmm47hvh6',\n",
       "  'courier_id': '96ljqi2uwkxkbvfy6bd6ve3',\n",
       "  'address': 'Ул. Садовая, 3, кв. 181',\n",
       "  'delivery_ts': '2023-05-19 05:06:26.216000',\n",
       "  'rate': 5,\n",
       "  'sum': 2221,\n",
       "  'tip_sum': 222},\n",
       " {'order_id': '6466eaf3d47b9a24aa9d54cd',\n",
       "  'order_ts': '2023-05-19 03:20:19.908000',\n",
       "  'delivery_id': 'p4mhq2y90v448wj1rk9n4yw',\n",
       "  'courier_id': '5nj2ruf5wohguey7bmosqq6',\n",
       "  'address': 'Ул. Набережная, 2, кв. 352',\n",
       "  'delivery_ts': '2023-05-19 04:20:25.411000',\n",
       "  'rate': 5,\n",
       "  'sum': 3468,\n",
       "  'tip_sum': 346},\n",
       " {'order_id': '6466ec1d071c79206ae2b55f',\n",
       "  'order_ts': '2023-05-19 03:25:17.775000',\n",
       "  'delivery_id': '01yeoq0p8pgd1egv7va4la0',\n",
       "  'courier_id': 'v6yi37uwfvdzrg6d7jhw3yu',\n",
       "  'address': 'Ул. Академика Королева, 1, кв. 455',\n",
       "  'delivery_ts': '2023-05-19 04:48:22.518000',\n",
       "  'rate': 5,\n",
       "  'sum': 216,\n",
       "  'tip_sum': 10},\n",
       " {'order_id': '6466ed4ffb0b26d2b9517581',\n",
       "  'order_ts': '2023-05-19 03:30:23.466000',\n",
       "  'delivery_id': 'uaob2grc3syrpth9t4chdp3',\n",
       "  'courier_id': 'hgg0aamiltt972eziivjowx',\n",
       "  'address': 'Ул. Красная, 3, кв. 200',\n",
       "  'delivery_ts': '2023-05-19 05:17:27.435000',\n",
       "  'rate': 5,\n",
       "  'sum': 4101,\n",
       "  'tip_sum': 410},\n",
       " {'order_id': '6466ee768f9cb971ecc7fc3d',\n",
       "  'order_ts': '2023-05-19 03:35:18.708000',\n",
       "  'delivery_id': '9jh85xg6eqehfjcmo1z03yo',\n",
       "  'courier_id': 'fcslzn6cf5yvnpmjmk3e0ft',\n",
       "  'address': 'Ул. Центральная, 5, кв. 381',\n",
       "  'delivery_ts': '2023-05-19 05:24:24.133000',\n",
       "  'rate': 5,\n",
       "  'sum': 1406,\n",
       "  'tip_sum': 70},\n",
       " {'order_id': '6466efa570e7f393546bd058',\n",
       "  'order_ts': '2023-05-19 03:40:21.168000',\n",
       "  'delivery_id': 'shi1hz0164rlp6ei8vzrjbc',\n",
       "  'courier_id': 'yui2mubwhtk0799nvkxlb21',\n",
       "  'address': 'Ул. Зеленая, 13, кв. 142',\n",
       "  'delivery_ts': '2023-05-19 05:10:26.938000',\n",
       "  'rate': 5,\n",
       "  'sum': 3741,\n",
       "  'tip_sum': 374},\n",
       " {'order_id': '6466f0cfbb2e754056b1daa2',\n",
       "  'order_ts': '2023-05-19 03:45:19.437000',\n",
       "  'delivery_id': 'pz79mopyb7nlqyv0mnlhndw',\n",
       "  'courier_id': 'clqwesbljtjbmuw69hy70nh',\n",
       "  'address': 'Ул. Набережная, 11, кв. 473',\n",
       "  'delivery_ts': '2023-05-19 05:10:22.252000',\n",
       "  'rate': 5,\n",
       "  'sum': 3399,\n",
       "  'tip_sum': 339},\n",
       " {'order_id': '6466f1fb0f0bba51e4f06d04',\n",
       "  'order_ts': '2023-05-19 03:50:19.717000',\n",
       "  'delivery_id': 'u2p0lsvojds8za974b8diky',\n",
       "  'courier_id': 'hgg0aamiltt972eziivjowx',\n",
       "  'address': 'Ул. Красная, 1, кв. 419',\n",
       "  'delivery_ts': '2023-05-19 04:56:20.801000',\n",
       "  'rate': 5,\n",
       "  'sum': 4056,\n",
       "  'tip_sum': 405},\n",
       " {'order_id': '6466f3235fda28da68101d53',\n",
       "  'order_ts': '2023-05-19 03:55:15.961000',\n",
       "  'delivery_id': 'kbfikt7u10o34hhzludyi1e',\n",
       "  'courier_id': 'g1v15eqjovdt5nzexmzsia9',\n",
       "  'address': 'Ул. Новая, 3, кв. 128',\n",
       "  'delivery_ts': '2023-05-19 05:33:21.675000',\n",
       "  'rate': 5,\n",
       "  'sum': 2732,\n",
       "  'tip_sum': 409},\n",
       " {'order_id': '6466f45ab381c622e4f33780',\n",
       "  'order_ts': '2023-05-19 04:00:26.206000',\n",
       "  'delivery_id': 'tuuocacyv2al00i4n6gezao',\n",
       "  'courier_id': 'wzd3i3v7dmbzs3s9j02hf4b',\n",
       "  'address': 'Ул. Зеленая, 10, кв. 244',\n",
       "  'delivery_ts': '2023-05-19 05:16:33.451000',\n",
       "  'rate': 5,\n",
       "  'sum': 3920,\n",
       "  'tip_sum': 392},\n",
       " {'order_id': '6466f57e7b0e65b18924d1ff',\n",
       "  'order_ts': '2023-05-19 04:05:18.624000',\n",
       "  'delivery_id': 'sso7z85s0mb75sbeprmver6',\n",
       "  'courier_id': 'wj32e5kx324cer5anokul6j',\n",
       "  'address': 'Ул. Зеленая, 11, кв. 395',\n",
       "  'delivery_ts': '2023-05-19 05:16:26.002000',\n",
       "  'rate': 5,\n",
       "  'sum': 3801,\n",
       "  'tip_sum': 380}]"
      ]
     },
     "execution_count": 17,
     "metadata": {},
     "output_type": "execute_result"
    }
   ],
   "source": [
    "load_queue"
   ]
  },
  {
   "cell_type": "code",
   "execution_count": 11,
   "id": "a301d604",
   "metadata": {
    "scrolled": true
   },
   "outputs": [
    {
     "name": "stdout",
     "output_type": "stream",
     "text": [
      "2023-05-19 00:00:26\n",
      "2023-05-19 00:05:17\n",
      "2023-05-19 00:10:20\n",
      "2023-05-19 00:15:20\n",
      "2023-05-19 00:20:19\n",
      "2023-05-19 00:25:17\n",
      "2023-05-19 00:30:20\n",
      "2023-05-19 00:35:18\n",
      "2023-05-19 00:40:19\n",
      "2023-05-19 00:45:18\n",
      "2023-05-19 00:50:21\n",
      "2023-05-19 00:55:16\n",
      "2023-05-19 01:00:24\n",
      "2023-05-19 01:05:17\n",
      "2023-05-19 01:10:19\n",
      "2023-05-19 01:15:19\n",
      "2023-05-19 01:20:19\n",
      "2023-05-19 01:25:17\n",
      "2023-05-19 01:30:25\n",
      "2023-05-19 01:35:18\n",
      "2023-05-19 01:40:19\n",
      "2023-05-19 01:45:18\n",
      "2023-05-19 01:50:20\n",
      "2023-05-19 01:55:17\n",
      "2023-05-19 02:00:24\n",
      "2023-05-19 02:05:17\n",
      "2023-05-19 02:10:18\n",
      "2023-05-19 02:15:19\n",
      "2023-05-19 02:20:19\n",
      "2023-05-19 02:25:18\n",
      "2023-05-19 02:30:21\n",
      "2023-05-19 02:35:18\n",
      "2023-05-19 02:40:20\n",
      "2023-05-19 02:45:19\n",
      "2023-05-19 02:50:19\n",
      "2023-05-19 02:55:19\n",
      "2023-05-19 03:00:24\n",
      "2023-05-19 03:05:17\n",
      "2023-05-19 03:10:19\n",
      "2023-05-19 03:15:20\n",
      "2023-05-19 03:20:19\n",
      "2023-05-19 03:25:17\n",
      "2023-05-19 03:30:23\n",
      "2023-05-19 03:35:18\n",
      "2023-05-19 03:40:21\n",
      "2023-05-19 03:45:19\n",
      "2023-05-19 03:50:19\n",
      "2023-05-19 03:55:15\n",
      "2023-05-19 04:00:26\n",
      "2023-05-19 04:05:18\n"
     ]
    }
   ],
   "source": [
    "for i in requests.get(url_del, headers = headers, params = params_del).json():\n",
    "    print((datetime.strptime(i['order_ts'], \"%Y-%m-%d %H:%M:%S.%f\").strftime(\"%Y-%m-%d %H:%M:%S\")))"
   ]
  },
  {
   "cell_type": "code",
   "execution_count": 12,
   "id": "9849cf8c",
   "metadata": {},
   "outputs": [],
   "source": [
    "date_check = '2023-05-19 03:05:18'"
   ]
  },
  {
   "cell_type": "code",
   "execution_count": 13,
   "id": "2e4f0124",
   "metadata": {},
   "outputs": [
    {
     "data": {
      "text/plain": [
       "'2023-05-19 04:05:18'"
      ]
     },
     "execution_count": 13,
     "metadata": {},
     "output_type": "execute_result"
    }
   ],
   "source": [
    "max_t = ([max(t['order_ts'] for t in load_queue)])\n",
    "max_t_str = datetime.strptime(max_t[0], \"%Y-%m-%d %H:%M:%S.%f\").strftime(\"%Y-%m-%d %H:%M:%S\")\n",
    "max_t_str"
   ]
  },
  {
   "cell_type": "code",
   "execution_count": 14,
   "id": "efd2c693",
   "metadata": {},
   "outputs": [
    {
     "data": {
      "text/plain": [
       "True"
      ]
     },
     "execution_count": 14,
     "metadata": {},
     "output_type": "execute_result"
    }
   ],
   "source": [
    "max_t_str>date_check"
   ]
  },
  {
   "cell_type": "code",
   "execution_count": 15,
   "id": "07b8fa75",
   "metadata": {},
   "outputs": [
    {
     "name": "stdout",
     "output_type": "stream",
     "text": [
      "2023-05-19 04:05:18.624000\n"
     ]
    },
    {
     "data": {
      "text/plain": [
       "'2023-05-19 04:05:18'"
      ]
     },
     "execution_count": 15,
     "metadata": {},
     "output_type": "execute_result"
    }
   ],
   "source": [
    "max_t = ([max(t['order_ts'] for t in load_queue)])\n",
    "print(max_t[0])\n",
    "datetime.strptime(max_t[0], \"%Y-%m-%d %H:%M:%S.%f\").strftime(\"%Y-%m-%d %H:%M:%S\")"
   ]
  },
  {
   "cell_type": "code",
   "execution_count": 16,
   "id": "6fd9eedf",
   "metadata": {},
   "outputs": [
    {
     "ename": "TypeError",
     "evalue": "strptime() argument 1 must be str, not list",
     "output_type": "error",
     "traceback": [
      "\u001b[0;31m---------------------------------------------------------------------------\u001b[0m",
      "\u001b[0;31mTypeError\u001b[0m                                 Traceback (most recent call last)",
      "Cell \u001b[0;32mIn[16], line 1\u001b[0m\n\u001b[0;32m----> 1\u001b[0m max_t \u001b[38;5;241m=\u001b[39m \u001b[43mdatetime\u001b[49m\u001b[38;5;241;43m.\u001b[39;49m\u001b[43mstrptime\u001b[49m\u001b[43m(\u001b[49m\u001b[43mmax_t\u001b[49m\u001b[43m,\u001b[49m\u001b[43m \u001b[49m\u001b[38;5;124;43m\"\u001b[39;49m\u001b[38;5;124;43m%\u001b[39;49m\u001b[38;5;124;43mY-\u001b[39;49m\u001b[38;5;124;43m%\u001b[39;49m\u001b[38;5;124;43mm-\u001b[39;49m\u001b[38;5;132;43;01m%d\u001b[39;49;00m\u001b[38;5;124;43m \u001b[39;49m\u001b[38;5;124;43m%\u001b[39;49m\u001b[38;5;124;43mH:\u001b[39;49m\u001b[38;5;124;43m%\u001b[39;49m\u001b[38;5;124;43mM:\u001b[39;49m\u001b[38;5;124;43m%\u001b[39;49m\u001b[38;5;124;43mS.\u001b[39;49m\u001b[38;5;132;43;01m%f\u001b[39;49;00m\u001b[38;5;124;43m\"\u001b[39;49m\u001b[43m)\u001b[49m\u001b[38;5;241m.\u001b[39mstrftime(\u001b[38;5;124m\"\u001b[39m\u001b[38;5;124m%\u001b[39m\u001b[38;5;124mY-\u001b[39m\u001b[38;5;124m%\u001b[39m\u001b[38;5;124mm-\u001b[39m\u001b[38;5;132;01m%d\u001b[39;00m\u001b[38;5;124m \u001b[39m\u001b[38;5;124m%\u001b[39m\u001b[38;5;124mH:\u001b[39m\u001b[38;5;124m%\u001b[39m\u001b[38;5;124mM:\u001b[39m\u001b[38;5;124m%\u001b[39m\u001b[38;5;124mS\u001b[39m\u001b[38;5;124m\"\u001b[39m)\n",
      "\u001b[0;31mTypeError\u001b[0m: strptime() argument 1 must be str, not list"
     ]
    }
   ],
   "source": [
    "max_t = datetime.strptime(max_t, \"%Y-%m-%d %H:%M:%S.%f\").strftime(\"%Y-%m-%d %H:%M:%S\")"
   ]
  },
  {
   "cell_type": "code",
   "execution_count": null,
   "id": "9a8852f5",
   "metadata": {},
   "outputs": [],
   "source": [
    "a = 0\n",
    "for i in requests.get(url_del, headers = headers, params = params_del).json():\n",
    "    print(i)\n",
    "    a+=1\n",
    "print(a)"
   ]
  },
  {
   "cell_type": "code",
   "execution_count": 34,
   "id": "60042750",
   "metadata": {},
   "outputs": [],
   "source": []
  },
  {
   "cell_type": "code",
   "execution_count": 5,
   "id": "669dec54",
   "metadata": {},
   "outputs": [
    {
     "data": {
      "text/plain": [
       "'2023-05-11'"
      ]
     },
     "execution_count": 5,
     "metadata": {},
     "output_type": "execute_result"
    }
   ],
   "source": [
    "d = (date.today() - timedelta(days=7)).isoformat()\n",
    "d"
   ]
  },
  {
   "cell_type": "code",
   "execution_count": 8,
   "id": "fb8da6d9",
   "metadata": {},
   "outputs": [
    {
     "data": {
      "text/plain": [
       "'2023-05-11 00:00:00'"
      ]
     },
     "execution_count": 8,
     "metadata": {},
     "output_type": "execute_result"
    }
   ],
   "source": [
    "datetime.fromisoformat(d).strftime(\"%Y-%m-%d 00:00:00\")"
   ]
  },
  {
   "cell_type": "code",
   "execution_count": null,
   "id": "de4dd251",
   "metadata": {},
   "outputs": [],
   "source": []
  }
 ],
 "metadata": {
  "kernelspec": {
   "display_name": "Python 3 (ipykernel)",
   "language": "python",
   "name": "python3"
  },
  "language_info": {
   "codemirror_mode": {
    "name": "ipython",
    "version": 3
   },
   "file_extension": ".py",
   "mimetype": "text/x-python",
   "name": "python",
   "nbconvert_exporter": "python",
   "pygments_lexer": "ipython3",
   "version": "3.10.9"
  }
 },
 "nbformat": 4,
 "nbformat_minor": 5
}
